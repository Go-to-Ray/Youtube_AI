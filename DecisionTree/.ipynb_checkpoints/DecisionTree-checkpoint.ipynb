{
 "cells": [
  {
   "cell_type": "markdown",
   "metadata": {},
   "source": [
    "# Decision Tree (決定木) の実装"
   ]
  },
  {
   "cell_type": "code",
   "execution_count": 2,
   "metadata": {},
   "outputs": [],
   "source": [
    "from sklearn.datasets import load_iris\n",
    "from sklearn.model_selection import train_test_split\n",
    "from sklearn.preprocessing import StandardScaler\n",
    "from sklearn import tree\n",
    "import pandas as pd\n",
    "import numpy as np\n",
    "import matplotlib.pyplot as plt\n",
    "import subprocess"
   ]
  },
  {
   "cell_type": "code",
   "execution_count": 3,
   "metadata": {},
   "outputs": [
    {
     "data": {
      "text/html": [
       "<div>\n",
       "<style scoped>\n",
       "    .dataframe tbody tr th:only-of-type {\n",
       "        vertical-align: middle;\n",
       "    }\n",
       "\n",
       "    .dataframe tbody tr th {\n",
       "        vertical-align: top;\n",
       "    }\n",
       "\n",
       "    .dataframe thead th {\n",
       "        text-align: right;\n",
       "    }\n",
       "</style>\n",
       "<table border=\"1\" class=\"dataframe\">\n",
       "  <thead>\n",
       "    <tr style=\"text-align: right;\">\n",
       "      <th></th>\n",
       "      <th>sepal length (cm)</th>\n",
       "      <th>sepal width (cm)</th>\n",
       "      <th>petal length (cm)</th>\n",
       "      <th>petal width (cm)</th>\n",
       "      <th>Species</th>\n",
       "    </tr>\n",
       "  </thead>\n",
       "  <tbody>\n",
       "    <tr>\n",
       "      <th>0</th>\n",
       "      <td>5.1</td>\n",
       "      <td>3.5</td>\n",
       "      <td>1.4</td>\n",
       "      <td>0.2</td>\n",
       "      <td>0</td>\n",
       "    </tr>\n",
       "    <tr>\n",
       "      <th>1</th>\n",
       "      <td>4.9</td>\n",
       "      <td>3.0</td>\n",
       "      <td>1.4</td>\n",
       "      <td>0.2</td>\n",
       "      <td>0</td>\n",
       "    </tr>\n",
       "    <tr>\n",
       "      <th>2</th>\n",
       "      <td>4.7</td>\n",
       "      <td>3.2</td>\n",
       "      <td>1.3</td>\n",
       "      <td>0.2</td>\n",
       "      <td>0</td>\n",
       "    </tr>\n",
       "    <tr>\n",
       "      <th>3</th>\n",
       "      <td>4.6</td>\n",
       "      <td>3.1</td>\n",
       "      <td>1.5</td>\n",
       "      <td>0.2</td>\n",
       "      <td>0</td>\n",
       "    </tr>\n",
       "    <tr>\n",
       "      <th>4</th>\n",
       "      <td>5.0</td>\n",
       "      <td>3.6</td>\n",
       "      <td>1.4</td>\n",
       "      <td>0.2</td>\n",
       "      <td>0</td>\n",
       "    </tr>\n",
       "  </tbody>\n",
       "</table>\n",
       "</div>"
      ],
      "text/plain": [
       "   sepal length (cm)  sepal width (cm)  petal length (cm)  petal width (cm)  \\\n",
       "0                5.1               3.5                1.4               0.2   \n",
       "1                4.9               3.0                1.4               0.2   \n",
       "2                4.7               3.2                1.3               0.2   \n",
       "3                4.6               3.1                1.5               0.2   \n",
       "4                5.0               3.6                1.4               0.2   \n",
       "\n",
       "   Species  \n",
       "0        0  \n",
       "1        0  \n",
       "2        0  \n",
       "3        0  \n",
       "4        0  "
      ]
     },
     "metadata": {},
     "output_type": "display_data"
    },
    {
     "data": {
      "text/html": [
       "<div>\n",
       "<style scoped>\n",
       "    .dataframe tbody tr th:only-of-type {\n",
       "        vertical-align: middle;\n",
       "    }\n",
       "\n",
       "    .dataframe tbody tr th {\n",
       "        vertical-align: top;\n",
       "    }\n",
       "\n",
       "    .dataframe thead th {\n",
       "        text-align: right;\n",
       "    }\n",
       "</style>\n",
       "<table border=\"1\" class=\"dataframe\">\n",
       "  <thead>\n",
       "    <tr style=\"text-align: right;\">\n",
       "      <th></th>\n",
       "      <th>sepal length (cm)</th>\n",
       "      <th>sepal width (cm)</th>\n",
       "      <th>petal length (cm)</th>\n",
       "      <th>petal width (cm)</th>\n",
       "      <th>Species</th>\n",
       "    </tr>\n",
       "  </thead>\n",
       "  <tbody>\n",
       "    <tr>\n",
       "      <th>count</th>\n",
       "      <td>150.000000</td>\n",
       "      <td>150.000000</td>\n",
       "      <td>150.000000</td>\n",
       "      <td>150.000000</td>\n",
       "      <td>150.000000</td>\n",
       "    </tr>\n",
       "    <tr>\n",
       "      <th>mean</th>\n",
       "      <td>5.843333</td>\n",
       "      <td>3.057333</td>\n",
       "      <td>3.758000</td>\n",
       "      <td>1.199333</td>\n",
       "      <td>1.000000</td>\n",
       "    </tr>\n",
       "    <tr>\n",
       "      <th>std</th>\n",
       "      <td>0.828066</td>\n",
       "      <td>0.435866</td>\n",
       "      <td>1.765298</td>\n",
       "      <td>0.762238</td>\n",
       "      <td>0.819232</td>\n",
       "    </tr>\n",
       "    <tr>\n",
       "      <th>min</th>\n",
       "      <td>4.300000</td>\n",
       "      <td>2.000000</td>\n",
       "      <td>1.000000</td>\n",
       "      <td>0.100000</td>\n",
       "      <td>0.000000</td>\n",
       "    </tr>\n",
       "    <tr>\n",
       "      <th>25%</th>\n",
       "      <td>5.100000</td>\n",
       "      <td>2.800000</td>\n",
       "      <td>1.600000</td>\n",
       "      <td>0.300000</td>\n",
       "      <td>0.000000</td>\n",
       "    </tr>\n",
       "    <tr>\n",
       "      <th>50%</th>\n",
       "      <td>5.800000</td>\n",
       "      <td>3.000000</td>\n",
       "      <td>4.350000</td>\n",
       "      <td>1.300000</td>\n",
       "      <td>1.000000</td>\n",
       "    </tr>\n",
       "    <tr>\n",
       "      <th>75%</th>\n",
       "      <td>6.400000</td>\n",
       "      <td>3.300000</td>\n",
       "      <td>5.100000</td>\n",
       "      <td>1.800000</td>\n",
       "      <td>2.000000</td>\n",
       "    </tr>\n",
       "    <tr>\n",
       "      <th>max</th>\n",
       "      <td>7.900000</td>\n",
       "      <td>4.400000</td>\n",
       "      <td>6.900000</td>\n",
       "      <td>2.500000</td>\n",
       "      <td>2.000000</td>\n",
       "    </tr>\n",
       "  </tbody>\n",
       "</table>\n",
       "</div>"
      ],
      "text/plain": [
       "       sepal length (cm)  sepal width (cm)  petal length (cm)  \\\n",
       "count         150.000000        150.000000         150.000000   \n",
       "mean            5.843333          3.057333           3.758000   \n",
       "std             0.828066          0.435866           1.765298   \n",
       "min             4.300000          2.000000           1.000000   \n",
       "25%             5.100000          2.800000           1.600000   \n",
       "50%             5.800000          3.000000           4.350000   \n",
       "75%             6.400000          3.300000           5.100000   \n",
       "max             7.900000          4.400000           6.900000   \n",
       "\n",
       "       petal width (cm)     Species  \n",
       "count        150.000000  150.000000  \n",
       "mean           1.199333    1.000000  \n",
       "std            0.762238    0.819232  \n",
       "min            0.100000    0.000000  \n",
       "25%            0.300000    0.000000  \n",
       "50%            1.300000    1.000000  \n",
       "75%            1.800000    2.000000  \n",
       "max            2.500000    2.000000  "
      ]
     },
     "metadata": {},
     "output_type": "display_data"
    }
   ],
   "source": [
    "iris = load_iris()\n",
    "X = iris.data\n",
    "y = iris.target\n",
    "X_df = pd.DataFrame(X,columns=iris.feature_names)\n",
    "y_df = pd.DataFrame(y,columns=[\"Species\"])\n",
    "DF = pd.concat((X_df,y_df),axis=1)\n",
    "\n",
    "#display(X_df)\n",
    "#display(y_df)\n",
    "display(DF.head())\n",
    "display(DF.describe())"
   ]
  },
  {
   "cell_type": "code",
   "execution_count": 4,
   "metadata": {},
   "outputs": [
    {
     "name": "stdout",
     "output_type": "stream",
     "text": [
      "決定木をベースにした手法は線形な返還に依存しない\n"
     ]
    },
    {
     "data": {
      "text/plain": [
       "'\\nX_train, X_test, y_train, y_test = train_test_split(X,y)  #訓練データとテストデータの分割\\nscaler_std = StandardScaler()  #標準化コンストラクタ\\nscaler_std.fit(X_train)        #標準化の元\\n\\nX_train_std = scaler_std.transform(X_train)  #訓練データの標準化\\nX_test_std  = scaler_std.transform(X_test)   #テストデータの標準化\\n'"
      ]
     },
     "execution_count": 4,
     "metadata": {},
     "output_type": "execute_result"
    }
   ],
   "source": [
    "print(\"決定木をベースにした手法は線形な返還に依存しない\")\n",
    "\n",
    "\"\"\"\n",
    "X_train, X_test, y_train, y_test = train_test_split(X,y)  #訓練データとテストデータの分割\n",
    "scaler_std = StandardScaler()  #標準化コンストラクタ\n",
    "scaler_std.fit(X_train)        #標準化の元\n",
    "\n",
    "X_train_std = scaler_std.transform(X_train)  #訓練データの標準化\n",
    "X_test_std  = scaler_std.transform(X_test)   #テストデータの標準化\n",
    "\"\"\""
   ]
  },
  {
   "cell_type": "markdown",
   "metadata": {},
   "source": [
    "## まずscikit-learnで実装"
   ]
  },
  {
   "cell_type": "code",
   "execution_count": 5,
   "metadata": {},
   "outputs": [
    {
     "data": {
      "text/plain": [
       "[Text(133.92000000000002, 190.26, 'X[2] <= 2.6\\ngini = 0.666\\nsamples = 112\\nvalue = [37, 35, 40]'),\n",
       " Text(66.96000000000001, 135.9, 'gini = 0.0\\nsamples = 37\\nvalue = [37, 0, 0]'),\n",
       " Text(200.88000000000002, 135.9, 'X[3] <= 1.65\\ngini = 0.498\\nsamples = 75\\nvalue = [0, 35, 40]'),\n",
       " Text(133.92000000000002, 81.53999999999999, 'X[2] <= 4.95\\ngini = 0.145\\nsamples = 38\\nvalue = [0, 35, 3]'),\n",
       " Text(66.96000000000001, 27.180000000000007, 'gini = 0.0\\nsamples = 35\\nvalue = [0, 35, 0]'),\n",
       " Text(200.88000000000002, 27.180000000000007, 'gini = 0.0\\nsamples = 3\\nvalue = [0, 0, 3]'),\n",
       " Text(267.84000000000003, 81.53999999999999, 'gini = 0.0\\nsamples = 37\\nvalue = [0, 0, 37]')]"
      ]
     },
     "execution_count": 5,
     "metadata": {},
     "output_type": "execute_result"
    },
    {
     "data": {
      "image/png": "[encoded data removed]",
      "text/plain": [
       "<Figure size 432x288 with 1 Axes>"
      ]
     },
     "metadata": {
      "needs_background": "light"
     },
     "output_type": "display_data"
    }
   ],
   "source": [
    "X_train, X_test, y_train, y_test = train_test_split(X,y)  #訓練データとテストデータの分割\n",
    "\n",
    "clf_tree = tree.DecisionTreeClassifier(max_depth=5)  #深さ指定\n",
    "clf_tree.fit(X_train,y_train)  #学習・フィット\n",
    "\n",
    "tree.plot_tree(clf_tree)"
   ]
  },
  {
   "cell_type": "markdown",
   "metadata": {},
   "source": [
    "## フルスクラッチしよう"
   ]
  },
  {
   "cell_type": "markdown",
   "metadata": {},
   "source": [
    "## CART法\n",
    "\n",
    "Gini不純度を求める。\n",
    "\n",
    "ジニ不純度を定義する関数は、\n",
    "\n",
    "\n",
    "\n",
    "$$\n",
    "I_G(t) = 1 - \\sum^c_{i=1} p(i|t)^2  \\\\\n",
    "p(i|t) = \\frac{n_i}{n}\n",
    "$$\n",
    "\n",
    "エントロピーでは、\n",
    "$$\n",
    "I_H(t) = -\\sum^c_{i=1} p(i|t) \\log p(i|t)\n",
    "$$\n",
    "\n",
    "$\n",
    "n : ノード内のサンプル数\\\\\n",
    "n_i : iクラスのサンプル数\n",
    "$\n",
    "\n",
    "不純度が最も小さくなった時もっともよく分類できているといえます。"
   ]
  },
  {
   "cell_type": "markdown",
   "metadata": {},
   "source": [
    "### ジニ不純度を求める関数"
   ]
  },
  {
   "cell_type": "code",
   "execution_count": 6,
   "metadata": {},
   "outputs": [],
   "source": [
    "def _gini(y):\n",
    "    \n",
    "    \"\"\"\n",
    "    y : ノード内のデータ\n",
    "    例：y = [0,0,1,1,0,1,2,1,0,0]\n",
    "       IG = 1 - { (5/10)^2 + (4/10)^2 + (1/10)^2 }\n",
    "          = 0.58\n",
    "    \"\"\"\n",
    "    \n",
    "    n_sample = len(y)\n",
    "    y_set = list(set(y))\n",
    "    n_class = len(y_set)\n",
    "    \n",
    "    IG = 1  #ジニ不純度初期化\n",
    "    \n",
    "    #ジニ不純度のサメンション部分を計算\n",
    "    for c in range(n_class):\n",
    "        #p部分計算\n",
    "        ig = ( len(y[y==y_set[c]]) / n_sample )**2\n",
    "        #ジニ不純度を更新\n",
    "        IG -= ig\n",
    "    \n",
    "    return IG"
   ]
  },
  {
   "cell_type": "markdown",
   "metadata": {},
   "source": [
    "ジニ不純度関数が正しく動いているかチェック"
   ]
  },
  {
   "cell_type": "code",
   "execution_count": 7,
   "metadata": {},
   "outputs": [
    {
     "data": {
      "text/plain": [
       "0.58"
      ]
     },
     "execution_count": 7,
     "metadata": {},
     "output_type": "execute_result"
    }
   ],
   "source": [
    "y = np.array([0,0,1,1,0,1,2,1,0,0])\n",
    "_gini(y)"
   ]
  },
  {
   "cell_type": "markdown",
   "metadata": {},
   "source": [
    "### ジニ不純度が最低になる場所の推定\n",
    "\n",
    "目標は入れ子構造です。自分で実装するときは、まず深さ１の決定木から実装するといいと思います。"
   ]
  },
  {
   "cell_type": "code",
   "execution_count": 124,
   "metadata": {},
   "outputs": [],
   "source": [
    "#決定木\n",
    "class DecisionTree:\n",
    "    def __init__(self,X=None,y=[0],max_depth=None):\n",
    "        #条件を保存するためのノード\n",
    "        self.X = X\n",
    "        self.y = y\n",
    "        self.max_depth = max_depth\n",
    "        self.node_high = None\n",
    "        self.node_low  = None\n",
    "        self.tree = None\n",
    "        self.label = np.argmax(np.bincount(y))\n",
    "        print(\"np.bincount()の挙動確認\",np.bincount(y))\n",
    "        \n",
    "    #ジニ不純度を求める関数(_boundary_point関数内でループ)\n",
    "    def _gini(self, X, y, axs, threshold):\n",
    "        \n",
    "        \"\"\"\n",
    "        y : ノード内のデータ\n",
    "        例：y_yes  = [0,0,1,1,0,1,2,1,0,0]\n",
    "           IG     = 1 - { (5/10)^2 + (4/10)^2 + (1/10)^2 }\n",
    "                  = 0.58\n",
    "        \"\"\"\n",
    "        \n",
    "        flag  = X[:,axs] >= threshold\n",
    "        _flag = np.logical_not(flag)\n",
    "        #_flag = X[:,axs] < threshold\n",
    "        \n",
    "        y_ = [y[flag], y[_flag]]\n",
    "        \n",
    "        all_sample = len(y)\n",
    "        \n",
    "        y_set = list(set(y))\n",
    "        n_class = len(y_set)\n",
    "        \n",
    "        IG = 0\n",
    "        \n",
    "        #ジニ不純度のサメンション部分を計算\n",
    "        for y in y_:\n",
    "            IG_cof = 1  #ジニ係数初期化\n",
    "            n_sample = len(y)\n",
    "            for c in y_set:\n",
    "                if n_sample == 0:\n",
    "                    break\n",
    "                #p部分計算\n",
    "                p = ( len(y[y==c]) / n_sample )**2\n",
    "                #ジニ不純度を更新\n",
    "                IG_cof -= p\n",
    "            IG += IG_cof * ( len(y) / all_sample )\n",
    "        \n",
    "        return IG\n",
    "    \n",
    "    \n",
    "    #入れ子構造になっている\n",
    "    def _serch_split(self, X, y, depth=1):\n",
    "        \n",
    "        \"\"\"\n",
    "        X      : 全てのデータ\n",
    "        y      : Xのラベル\n",
    "        depth  : 今の深さ\n",
    "        \"\"\"\n",
    "        self.depth = depth\n",
    "        n_axs = X.shape[1]\n",
    "        \n",
    "        gini_flag1 = 1\n",
    "        gini_flag2 = 1\n",
    "        \n",
    "        #ジニ不純度が最小になる軸とその時の値を二つ\n",
    "        for axs in range(n_axs):\n",
    "            X_set = list(set(X[:, axs]))          #同じ値は必要ないので除去\n",
    "            for i,x in enumerate(X_set):\n",
    "                gini = self._gini(X,y,axs,x)      #ジニ不純度を計算\n",
    "                #中間値をとるための処理\n",
    "                if gini_flag2 > gini:             #二番目に小さいジニよりも小さいか\n",
    "                    if gini_flag1 > gini:         #一番小さいジニよりさらに小さいとき\n",
    "                        gini_flag1 = gini         #一番小さいジニ不純度更新\n",
    "                        split_value1 = x          #一番小さいジニをとる値を保存\n",
    "                        best_axs = axs            #一番小さいジニをとる軸を保存\n",
    "                        c = y[np.where(X==x)[0]]         #一番小さいジニをとるクラスタの保存\n",
    "                    elif best_axs == axs:         #軸が同じか\n",
    "                        if c != y[np.where(X==x)[0]]:#同じクラスタの次に小さいやつをとっても意味ないから\n",
    "                            gini_flag2 = gini     #同じなら二番目に小さいジニを保存\n",
    "                            split_value2 = x      #二番目に小さいジニをとる値を保存して\n",
    "\n",
    "        #argmin()でもいける？\n",
    "        \n",
    "        #境界値算出(算術平均)\n",
    "        split_point = ( split_value1 + split_value2 ) / 2\n",
    "        print(X.shape)\n",
    "        print(\"axis =\",best_axs)\n",
    "        print(\"depth =\", depth)\n",
    "        print(\"boundary_line =\",split_point)\n",
    "        print(split_value1)\n",
    "        print(split_value2)\n",
    "        print(\"GINI =\",gini_flag1)\n",
    "        \n",
    "        return gini_flag1,split_point,best_axs\n",
    "        \n",
    "    def _split(self,depth):\n",
    "        \n",
    "        self.gini_min, self.boundary_line, self.best_axs = self._serch_split(self.X, self.y, depth)\n",
    "        \n",
    "        #左右のノード抽出\n",
    "        flag   = X[:,self.best_axs]>=self.boundary_line\n",
    "        _flag  = np.logical_not(flag)\n",
    "        X_high = X[flag]\n",
    "        X_low  = X[_flag]\n",
    "        y_high = y[flag]\n",
    "        y_low  = y[_flag]\n",
    "\n",
    "        #深さの更新\n",
    "        depth += 1\n",
    "\n",
    "        print(y_high)\n",
    "        print(y_low)\n",
    "        self.node_high = DecisionTree(X_high, y_high, self.max_depth)\n",
    "        self.node_low  = DecisionTree(X_low, y_low,self.max_depth)\n",
    "        \n",
    "        #ジニ不純度が０でなく深さが指定以下の時まだ続ける\n",
    "        if self.gini_min == 0 or self.max_depth == depth:\n",
    "            self.label = \n",
    "            pass\n",
    "        else:\n",
    "            self.node_high._split(depth)\n",
    "            self.node_low._split(depth)\n",
    "    \n",
    "    def pred(self, X_test):\n",
    "        if self.gini_min == 0 or self.max_depth == self.depth:\n",
    "            return self.label\n",
    "            \n",
    "            #if X_test[self.best_axs] >= self.boundary_line:\n",
    "            #    return self.node_high.pred(X_test).label\n",
    "            #else:\n",
    "            #    return self.node_low.pred(X_test).label\n",
    "            \n",
    "        else:\n",
    "            if X_test[self.best_axs] >= self.boundary_line:\n",
    "                return self.node_high.pred(X_test)\n",
    "            else:\n",
    "                return self.node_low.pred(X_test)\n",
    "\n",
    "#class DT:\n",
    "    def fit(self, X, y, max_depth=3):\n",
    "        self.tree = DecisionTree(X, y, max_depth)\n",
    "        self.tree._split(1)\n",
    "        \n",
    "    def predict(self,X_test):\n",
    "        pred = np.zeros(X_test.shape[0],\"uint\")\n",
    "        for i,t in enumerate(X_test):\n",
    "            pred[i] = (self.tree.pred(t))\n",
    "        return np.array(pred)\n"
   ]
  },
  {
   "cell_type": "markdown",
   "metadata": {},
   "source": [
    "## テストデータで実験"
   ]
  },
  {
   "cell_type": "code",
   "execution_count": 86,
   "metadata": {},
   "outputs": [
    {
     "data": {
      "text/plain": [
       "<matplotlib.collections.PathCollection at 0x23e77bab9e8>"
      ]
     },
     "execution_count": 86,
     "metadata": {},
     "output_type": "execute_result"
    },
    {
     "data": {
      "image/png": "[encoded data removed]",
      "text/plain": [
       "<Figure size 432x288 with 1 Axes>"
      ]
     },
     "metadata": {
      "needs_background": "light"
     },
     "output_type": "display_data"
    }
   ],
   "source": [
    "data = 100\n",
    "mu1 = [-1,-1]\n",
    "sigma = [[0.49,-0.25],\n",
    "         [-0.25,0.49]]\n",
    "mu2 = [4,1]\n",
    "class1 = np.random.multivariate_normal(mu1,sigma,data)\n",
    "class2 = np.random.multivariate_normal(mu2,sigma,data)\n",
    "y = np.concatenate((np.zeros(data),np.ones(data)),axis=0).astype(int)\n",
    "X = np.concatenate((class1,class2),axis=0)\n",
    "\n",
    "plt.scatter(class1[:,0],class1[:,1])\n",
    "plt.scatter(class2[:,0],class2[:,1])"
   ]
  },
  {
   "cell_type": "code",
   "execution_count": 123,
   "metadata": {},
   "outputs": [
    {
     "name": "stdout",
     "output_type": "stream",
     "text": [
      "np.bincount()の挙動確認 [1]\n",
      "np.bincount()の挙動確認 [ 99 100]\n",
      "(199, 2)\n",
      "axis = 0\n",
      "depth = 1\n",
      "boundary_line = 1.3030611697967014\n",
      "2.0856665246485115\n",
      "0.5204558149448912\n",
      "GINI = 0.0\n",
      "[1 1 1 1 1 1 1 1 1 1 1 1 1 1 1 1 1 1 1 1 1 1 1 1 1 1 1 1 1 1 1 1 1 1 1 1 1\n",
      " 1 1 1 1 1 1 1 1 1 1 1 1 1 1 1 1 1 1 1 1 1 1 1 1 1 1 1 1 1 1 1 1 1 1 1 1 1\n",
      " 1 1 1 1 1 1 1 1 1 1 1 1 1 1 1 1 1 1 1 1 1 1 1 1 1 1]\n",
      "[0 0 0 0 0 0 0 0 0 0 0 0 0 0 0 0 0 0 0 0 0 0 0 0 0 0 0 0 0 0 0 0 0 0 0 0 0\n",
      " 0 0 0 0 0 0 0 0 0 0 0 0 0 0 0 0 0 0 0 0 0 0 0 0 0 0 0 0 0 0 0 0 0 0 0 0 0\n",
      " 0 0 0 0 0 0 0 0 0 0 0 0 0 0 0 0 0 0 0 0 0 0 0 0 0 0]\n",
      "np.bincount()の挙動確認 [  0 100]\n",
      "np.bincount()の挙動確認 [100]\n",
      "[1 1 1 1 1 1 1 1 1 1 1 1 1 1 1 1 1 1 1 1]\n",
      "[0 0 0 0 0 0 0 0 0 0 1 1 1 1 1 1 1 1 1 1]\n"
     ]
    }
   ],
   "source": [
    "clf = DecisionTree()\n",
    "clf.fit(X[1:],y[1:],max_depth = 2)\n",
    "\n",
    "\n",
    "print(clf.predict(X[90:110]))\n",
    "print(y[90:110])"
   ]
  },
  {
   "cell_type": "code",
   "execution_count": 98,
   "metadata": {},
   "outputs": [
    {
     "data": {
      "text/plain": [
       "array([ 97, 100], dtype=int64)"
      ]
     },
     "metadata": {},
     "output_type": "display_data"
    },
    {
     "data": {
      "text/plain": [
       "1"
      ]
     },
     "metadata": {},
     "output_type": "display_data"
    },
    {
     "name": "stdout",
     "output_type": "stream",
     "text": [
      "[-0.6926167  -0.52853406]\n"
     ]
    }
   ],
   "source": [
    "display(np.bincount(y[3:]))\n",
    "display(np.argmax(np.bincount(y[3:])))\n",
    "print(X[1])"
   ]
  }
 ],
 "metadata": {
  "kernelspec": {
   "display_name": "Python 3",
   "language": "python",
   "name": "python3"
  },
  "language_info": {
   "codemirror_mode": {
    "name": "ipython",
    "version": 3
   },
   "file_extension": ".py",
   "mimetype": "text/x-python",
   "name": "python",
   "nbconvert_exporter": "python",
   "pygments_lexer": "ipython3",
   "version": "3.7.1"
  }
 },
 "nbformat": 4,
 "nbformat_minor": 4
}
