{
 "cells": [
  {
   "cell_type": "markdown",
   "metadata": {},
   "source": [
    "# numpyとdefaultのappend()について"
   ]
  },
  {
   "cell_type": "markdown",
   "metadata": {},
   "source": [
    "まずは必要なモジュールをimportしましょう"
   ]
  },
  {
   "cell_type": "code",
   "execution_count": 2,
   "metadata": {},
   "outputs": [],
   "source": [
    "import numpy as np"
   ]
  },
  {
   "cell_type": "markdown",
   "metadata": {},
   "source": [
    "# numpyについて"
   ]
  },
  {
   "cell_type": "markdown",
   "metadata": {},
   "source": [
    "疑問１：numpyは速いって聞くけど？？？  \n",
    "解答１：場合による\n",
    "\n",
    "疑問２：numpyって何？  \n",
    "解答２：CやFortranで記述されており、静的に確保したメモリを使用して行列計算を行う。GPU的な処理(for文)に強い。\n",
    "\n",
    "**疑問３：ほんまかいな？遅いことあんのけ？**  \n",
    "解答３：ある。解答２の理由により、メモリの再確保が必要になってしまう。"
   ]
  },
  {
   "cell_type": "markdown",
   "metadata": {},
   "source": [
    "## 具体的にテストしよう"
   ]
  },
  {
   "cell_type": "markdown",
   "metadata": {},
   "source": [
    "#### テストケース１：numpy信者になって愚直に記述してみる"
   ]
  },
  {
   "cell_type": "code",
   "execution_count": 35,
   "metadata": {},
   "outputs": [
    {
     "name": "stdout",
     "output_type": "stream",
     "text": [
      "41.7 µs ± 3.88 µs per loop (mean ± std. dev. of 7 runs, 10000 loops each)\n"
     ]
    }
   ],
   "source": [
    "%%timeit\n",
    "\n",
    "data_num = 10\n",
    "numpy_array = np.array([])\n",
    "for i in range(data_num):\n",
    "    numpy_array = np.append(numpy_array,i)"
   ]
  },
  {
   "cell_type": "markdown",
   "metadata": {},
   "source": [
    "#### テストケース２：numpy信者だが、メモリ空間に理解があると"
   ]
  },
  {
   "cell_type": "code",
   "execution_count": 36,
   "metadata": {},
   "outputs": [
    {
     "name": "stdout",
     "output_type": "stream",
     "text": [
      "1.37 µs ± 7.73 ns per loop (mean ± std. dev. of 7 runs, 1000000 loops each)\n"
     ]
    }
   ],
   "source": [
    "%%timeit\n",
    "\n",
    "data_num = 10\n",
    "numpy_array = np.zeros(data_num)\n",
    "for i in range(data_num):\n",
    "    numpy_array[i] = i"
   ]
  },
  {
   "cell_type": "markdown",
   "metadata": {},
   "source": [
    "#### テストケース３：numpy知らないので愚直に記述してみる"
   ]
  },
  {
   "cell_type": "code",
   "execution_count": 38,
   "metadata": {},
   "outputs": [
    {
     "name": "stdout",
     "output_type": "stream",
     "text": [
      "844 ns ± 188 ns per loop (mean ± std. dev. of 7 runs, 1000000 loops each)\n"
     ]
    }
   ],
   "source": [
    "%%timeit\n",
    "\n",
    "data_num = 10\n",
    "array = []\n",
    "for i in range(data_num):\n",
    "    array.append(i)"
   ]
  },
  {
   "cell_type": "markdown",
   "metadata": {},
   "source": [
    "#### テストケース４：numpy知らないけどメモリ空間に理解のある人"
   ]
  },
  {
   "cell_type": "code",
   "execution_count": 37,
   "metadata": {},
   "outputs": [
    {
     "name": "stdout",
     "output_type": "stream",
     "text": [
      "550 ns ± 2.9 ns per loop (mean ± std. dev. of 7 runs, 1000000 loops each)\n"
     ]
    }
   ],
   "source": [
    "%%timeit\n",
    "\n",
    "data_num = 10\n",
    "array = [0]*data_num\n",
    "for i in range(data_num):\n",
    "    array[i] = i"
   ]
  }
 ],
 "metadata": {
  "kernelspec": {
   "display_name": "Python 3",
   "language": "python",
   "name": "python3"
  },
  "language_info": {
   "codemirror_mode": {
    "name": "ipython",
    "version": 3
   },
   "file_extension": ".py",
   "mimetype": "text/x-python",
   "name": "python",
   "nbconvert_exporter": "python",
   "pygments_lexer": "ipython3",
   "version": "3.7.1"
  }
 },
 "nbformat": 4,
 "nbformat_minor": 4
}
