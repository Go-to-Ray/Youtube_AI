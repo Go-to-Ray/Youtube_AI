{
 "cells": [
  {
   "cell_type": "code",
   "execution_count": 5,
   "metadata": {},
   "outputs": [],
   "source": [
    "import numpy as np\n",
    "import matplotlib.pyplot as plt\n",
    "import seaborn as sns\n",
    "import sklearn.datasets\n",
    "\n",
    "from sklearn.decomposition import PCA, KernelPCA"
   ]
  },
  {
   "cell_type": "code",
   "execution_count": null,
   "metadata": {},
   "outputs": [],
   "source": []
  },
  {
   "cell_type": "code",
   "execution_count": 35,
   "metadata": {},
   "outputs": [
    {
     "name": "stdout",
     "output_type": "stream",
     "text": [
      "41.7 µs ± 3.88 µs per loop (mean ± std. dev. of 7 runs, 10000 loops each)\n"
     ]
    }
   ],
   "source": [
    "%%timeit\n",
    "\n",
    "data_num = 10\n",
    "numpy_array = np.array([])\n",
    "for i in range(data_num):\n",
    "    numpy_array = np.append(numpy_array,i)"
   ]
  },
  {
   "cell_type": "code",
   "execution_count": 36,
   "metadata": {},
   "outputs": [
    {
     "name": "stdout",
     "output_type": "stream",
     "text": [
      "1.37 µs ± 7.73 ns per loop (mean ± std. dev. of 7 runs, 1000000 loops each)\n"
     ]
    }
   ],
   "source": [
    "%%timeit\n",
    "\n",
    "data_num = 10\n",
    "numpy_array = np.zeros(data_num)\n",
    "for i in range(data_num):\n",
    "    numpy_array[i] = i"
   ]
  },
  {
   "cell_type": "code",
   "execution_count": 37,
   "metadata": {},
   "outputs": [
    {
     "name": "stdout",
     "output_type": "stream",
     "text": [
      "550 ns ± 2.9 ns per loop (mean ± std. dev. of 7 runs, 1000000 loops each)\n"
     ]
    }
   ],
   "source": [
    "%%timeit\n",
    "\n",
    "data_num = 10\n",
    "array = [0]*data_num\n",
    "for i in range(data_num):\n",
    "    array[i] = i"
   ]
  },
  {
   "cell_type": "code",
   "execution_count": 38,
   "metadata": {},
   "outputs": [
    {
     "name": "stdout",
     "output_type": "stream",
     "text": [
      "844 ns ± 188 ns per loop (mean ± std. dev. of 7 runs, 1000000 loops each)\n"
     ]
    }
   ],
   "source": [
    "%%timeit\n",
    "\n",
    "data_num = 10\n",
    "array = []\n",
    "for i in range(data_num):\n",
    "    array.append(i)"
   ]
  },
  {
   "cell_type": "markdown",
   "metadata": {},
   "source": [
    "実験１：空のndarrayを準備してnp.append()\n",
    "```python\n",
    "numpy_array = np.array([])\n",
    "for i in range(data_num):\n",
    "    numpy_array = np.append(numpy_array,i)\n",
    "```\n",
    "41.7 µs ± 3.88 µs per loop (mean ± std. dev. of 7 runs, 10000 loops each)\n",
    "\n",
    "実験２：必要な大きさのndarray配列をまず作っておいて挿入\n",
    "```python\n",
    "numpy_array = np.zeros(data_num)\n",
    "for i in range(data_num):\n",
    "    numpy_array[i] = i\n",
    "```\n",
    "1.37 µs ± 7.73 ns per loop (mean ± std. dev. of 7 runs, 1000000 loops each)\n",
    "\n",
    "実験３：デフォルトの空の配列を作っておいて追加\n",
    "```python\n",
    "array = []\n",
    "for i in range(data_num):\n",
    "    array.append(i)\n",
    "```\n",
    "844 ns ± 188 ns per loop (mean ± std. dev. of 7 runs, 1000000 loops each)\n",
    "\n",
    "実験４：必要な大きさのデフォルトの配列を作ってから挿入\n",
    "```python\n",
    "array = [0]*data_num\n",
    "for i in range(data_num):\n",
    "    array[i] = i\n",
    "```\n",
    "550 ns ± 2.9 ns per loop (mean ± std. dev. of 7 runs, 1000000 loops each)"
   ]
  }
 ],
 "metadata": {
  "kernelspec": {
   "display_name": "Python 3",
   "language": "python",
   "name": "python3"
  },
  "language_info": {
   "codemirror_mode": {
    "name": "ipython",
    "version": 3
   },
   "file_extension": ".py",
   "mimetype": "text/x-python",
   "name": "python",
   "nbconvert_exporter": "python",
   "pygments_lexer": "ipython3",
   "version": "3.7.1"
  }
 },
 "nbformat": 4,
 "nbformat_minor": 4
}
