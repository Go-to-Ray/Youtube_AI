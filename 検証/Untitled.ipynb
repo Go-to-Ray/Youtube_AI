{
 "cells": [
  {
   "cell_type": "markdown",
   "metadata": {},
   "source": [
    "# Generator"
   ]
  },
  {
   "cell_type": "code",
   "execution_count": 26,
   "metadata": {},
   "outputs": [],
   "source": [
    "def generate(ite,youso,func,i=0):\n",
    "    print(func(*youso))\n",
    "    if i < ite:\n",
    "        yield func(*youso)\n",
    "        return generate(ite,youso,func,i)\n",
    "    else:\n",
    "        return func(*youso)\n",
    "    i += 1"
   ]
  },
  {
   "cell_type": "code",
   "execution_count": 57,
   "metadata": {},
   "outputs": [],
   "source": [
    "def pow_calc(num,ite,i=0):\n",
    "    i += 1\n",
    "    print(\"a\")\n",
    "    num = num*2\n",
    "    yield num\n",
    "    if i == ite:\n",
    "        pass\n",
    "    else:\n",
    "        return pow_calc(num,ite,i)"
   ]
  },
  {
   "cell_type": "code",
   "execution_count": 62,
   "metadata": {},
   "outputs": [
    {
     "name": "stdout",
     "output_type": "stream",
     "text": [
      "<generator object pow_calc at 0x00000199A33A94C8>\n"
     ]
    }
   ],
   "source": [
    "a = pow_calc(1,10)\n",
    "print(a)"
   ]
  },
  {
   "cell_type": "code",
   "execution_count": 1,
   "metadata": {},
   "outputs": [],
   "source": [
    "import numpy as np"
   ]
  },
  {
   "cell_type": "code",
   "execution_count": 52,
   "metadata": {},
   "outputs": [
    {
     "name": "stdout",
     "output_type": "stream",
     "text": [
      "5.43 µs ± 822 ns per loop (mean ± std. dev. of 7 runs, 100000 loops each)\n"
     ]
    }
   ],
   "source": [
    "%%timeit\n",
    "n_squares = 65\n",
    "indices_of_squares = np.arange(n_squares,dtype=np.uint64)#.astype(np.uint64)\n",
    "board_ndarray = 2**indices_of_squares-1\n",
    "#print(\"最後のマスの小麦の数：{}\".format(board_ndarray[-1])) # 9223372036854775808\n",
    "#board_ndarray"
   ]
  },
  {
   "cell_type": "code",
   "execution_count": 40,
   "metadata": {},
   "outputs": [
    {
     "name": "stdout",
     "output_type": "stream",
     "text": [
      "5.91 µs ± 266 ns per loop (mean ± std. dev. of 7 runs, 100000 loops each)\n"
     ]
    }
   ],
   "source": [
    "%%timeit\n",
    "n_squares = 65\n",
    "indices_of_squares = np.arange(n_squares).astype(\"uint64\")\n",
    "board_ndarray = 2**indices_of_squares-1\n",
    "#print(\"最後のマスの小麦の数：{}\".format(board_ndarray[-1])) # 9223372036854775808\n",
    "#board_ndarray"
   ]
  },
  {
   "cell_type": "code",
   "execution_count": null,
   "metadata": {},
   "outputs": [],
   "source": []
  },
  {
   "cell_type": "code",
   "execution_count": 48,
   "metadata": {},
   "outputs": [],
   "source": [
    "def bloadcast_n_m_ndarray(n, m):\n",
    "    indices_ndarray = np.arange(n*m).astype(np.uint64)\n",
    "    n_m_ndarray = 2**indices_ndarray\n",
    "    \n",
    "    n_m_ndarray = n_m_ndarray.reshape(n, m)\n",
    "    return n_m_ndarray"
   ]
  },
  {
   "cell_type": "code",
   "execution_count": 46,
   "metadata": {},
   "outputs": [],
   "source": [
    "def append_n_m_ndarray(n, m):\n",
    "    n_squares = n*m\n",
    "    n_m_ndarray = np.array([])\n",
    "    \n",
    "    for i in range(n_squares):\n",
    "        n_m_ndarray = np.append(n_m_ndarray, 2**i)\n",
    "        \n",
    "    n_m_ndarray = n_m_ndarray.reshape(n, m)\n",
    "    return n_m_ndarray"
   ]
  },
  {
   "cell_type": "code",
   "execution_count": 86,
   "metadata": {},
   "outputs": [],
   "source": [
    "def create_n_m_ndarray(n, m):\n",
    "    #ndarrayの元となるリストを作成する\n",
    "    squares = n*m\n",
    "    squares_list = [0]*(n*m)\n",
    "    for i in range(squares):\n",
    "        squares_list[i] = (i)\n",
    "    \n",
    "    #ndarrayを作成する\n",
    "    n_m_ndarray = np.array(squares_list)\n",
    "    \n",
    "    #ndarrayをn×mに変形する\n",
    "    n_m_ndarray = n_m_ndarray.reshape(n, m)\n",
    "    \n",
    "    return n_m_ndarray"
   ]
  },
  {
   "cell_type": "code",
   "execution_count": 87,
   "metadata": {},
   "outputs": [],
   "source": [
    "def create_n_m_ndarray_(n, m):\n",
    "    #ndarrayの元となるリストを作成する\n",
    "    squares = n*m\n",
    "    squares_list = []\n",
    "    for i in range(squares):\n",
    "        squares_list.append(i)\n",
    "    \n",
    "    #ndarrayを作成する\n",
    "    n_m_ndarray = np.array(squares_list)\n",
    "    \n",
    "    #ndarrayをn×mに変形する\n",
    "    n_m_ndarray = n_m_ndarray.reshape(n, m)\n",
    "    \n",
    "    return n_m_ndarray"
   ]
  },
  {
   "cell_type": "code",
   "execution_count": 91,
   "metadata": {},
   "outputs": [
    {
     "name": "stdout",
     "output_type": "stream",
     "text": [
      "191 ms ± 18.8 ms per loop (mean ± std. dev. of 7 runs, 1 loop each)\n"
     ]
    }
   ],
   "source": [
    "%%timeit\n",
    "create_n_m_ndarray(1000,1000)"
   ]
  },
  {
   "cell_type": "code",
   "execution_count": 92,
   "metadata": {},
   "outputs": [
    {
     "name": "stdout",
     "output_type": "stream",
     "text": [
      "226 ms ± 34.7 ms per loop (mean ± std. dev. of 7 runs, 1 loop each)\n"
     ]
    }
   ],
   "source": [
    "%%timeit\n",
    "create_n_m_ndarray_(1000,1000)"
   ]
  },
  {
   "cell_type": "code",
   "execution_count": 59,
   "metadata": {},
   "outputs": [
    {
     "data": {
      "text/plain": [
       "[1, None, None, None, None]"
      ]
     },
     "execution_count": 59,
     "metadata": {},
     "output_type": "execute_result"
    }
   ],
   "source": [
    "a = [None]*5"
   ]
  },
  {
   "cell_type": "code",
   "execution_count": null,
   "metadata": {},
   "outputs": [],
   "source": [
    "１３個採点"
   ]
  },
  {
   "cell_type": "code",
   "execution_count": 95,
   "metadata": {},
   "outputs": [
    {
     "name": "stdout",
     "output_type": "stream",
     "text": [
      "バイバインをかけて675分後に太陽系を埋め尽くす\n"
     ]
    }
   ],
   "source": [
    "import math\n",
    "def baibain(small_volume, big_volume):\n",
    "    cnt = 0\n",
    "    transition_list = []\n",
    "\n",
    "    while small_volume < big_volume:\n",
    "        small_volume *= 2\n",
    "        cnt += 1\n",
    "        transition_list.append(small_volume)\n",
    "        \n",
    "    return cnt, transition_list\n",
    "\n",
    "MARON_VOLUME = 4 * 0.05**3 * math.pi / 3\n",
    "EARTH_VOLUME = 108331978e+9\n",
    "SORAR_SYSTEM_VOLUME = 4 * 1.5e+12 **3 * math.pi / 3\n",
    "TOKYODOME_VOLUME = 1240000\n",
    "BALL_VOLUME = 4 * 0.07**3 * math.pi / 3\n",
    "\n",
    "result, transition_list = baibain(MARON_VOLUME, SORAR_SYSTEM_VOLUME)\n",
    "\n",
    "#print(transition_list)\n",
    "print(\"バイバインをかけて{}分後に太陽系を埋め尽くす\".format(result*5))"
   ]
  },
  {
   "cell_type": "code",
   "execution_count": 101,
   "metadata": {},
   "outputs": [
    {
     "data": {
      "image/png": "[encoded data removed]",
      "text/plain": [
       "<Figure size 432x288 with 1 Axes>"
      ]
     },
     "metadata": {
      "needs_background": "light"
     },
     "output_type": "display_data"
    }
   ],
   "source": [
    "import matplotlib.pyplot as plt\n",
    "%matplotlib inline\n",
    "\n",
    "minute_list = [x*5 for x in range(len(transition_list))]\n",
    "#print(minute_list)\n",
    "#print(len(minute_list))\n",
    "#minute_list = [50, 100, 150, 200, 250, 300, 350, 400, 450]\n",
    "\n",
    "plt.title(\"baibain\")\n",
    "#plt.hlines(SORAR_SYSTEM_VOLUME, 0,150, color=\"orange\")\n",
    "plt.xlabel(\"Minute\")\n",
    "plt.ylabel(\"Volume\")\n",
    "plt.plot(minute_list,transition_list)\n",
    "# plt.xticks([100,])\n",
    "plt.show()"
   ]
  },
  {
   "cell_type": "code",
   "execution_count": 26,
   "metadata": {},
   "outputs": [
    {
     "name": "stderr",
     "output_type": "stream",
     "text": [
      "c:\\users\\goto rei\\appdata\\local\\pypoetry\\cache\\virtualenvs\\youtube-ai-c4g_4yu7-py3.7\\lib\\site-packages\\sklearn\\utils\\deprecation.py:143: FutureWarning: The sklearn.mixture.gaussian_mixture module is  deprecated in version 0.22 and will be removed in version 0.24. The corresponding classes / functions should instead be imported from sklearn.mixture. Anything that cannot be imported from sklearn.mixture is now part of the private API.\n",
      "  warnings.warn(message, FutureWarning)\n"
     ]
    }
   ],
   "source": [
    "import numpy as np\n",
    "import seaborn\n",
    "from sklearn.model_selection import train_test_split\n",
    "from sklearn.svm import SVR\n",
    "import matplotlib.pyplot as plt\n",
    "from sklearn.pipeline import make_pipeline\n",
    "from sklearn.preprocessing import StandardScaler\n",
    "from sklearn.mixture import gaussian_mixture\n",
    "\n",
    "%matplotlib inline"
   ]
  },
  {
   "cell_type": "code",
   "execution_count": 25,
   "metadata": {},
   "outputs": [
    {
     "data": {
      "image/png": "[encoded data removed]",
      "text/plain": [
       "<Figure size 432x288 with 1 Axes>"
      ]
     },
     "metadata": {
      "needs_background": "light"
     },
     "output_type": "display_data"
    }
   ],
   "source": [
    "x = np.array([242,268,272,282,286,286,296]).reshape(7,1)\n",
    "y = np.array([0.1,3.5,106.5,194.3,120.7,5.4,0.1])\n",
    "x_= np.arange(240,300,0.5).reshape(120,1)\n",
    "\n",
    "svr = SVR(kernel = \"rbf\",gamma = 1,C=1,epsilon = 0)\n",
    "#regr = make_pipeline(StandardScaler(), SVR(C=1.0, epsilon=0.2))\n",
    "svr.fit(x,y)\n",
    "y_=svr.predict(x_)\n",
    "\n",
    "plt.scatter(x.reshape(-1),y)\n",
    "plt.plot(x_,y_)\n",
    "plt.show()"
   ]
  },
  {
   "cell_type": "code",
   "execution_count": 41,
   "metadata": {},
   "outputs": [
    {
     "data": {
      "image/png": "[encoded data removed]",
      "text/plain": [
       "<Figure size 432x288 with 1 Axes>"
      ]
     },
     "metadata": {
      "needs_background": "light"
     },
     "output_type": "display_data"
    }
   ],
   "source": [
    "import numpy as np\n",
    "import pandas as pd\n",
    "import matplotlib.pyplot as plt\n",
    "import matplotlib.mlab as mlab\n",
    "import seaborn as sns\n",
    "\n",
    "from sklearn.mixture import GaussianMixture\n",
    "import sklearn.gaussian_process as gp\n",
    "\n",
    "x = np.array([242,268,272,282,286,286,296]).reshape(7,1)\n",
    "y = np.array([0.1,3.5,106.5,194.3,120.7,5.4,0.1]).reshape(7,1)\n",
    "x_= np.arange(240,300,0.5).reshape(120,1)\n",
    "\n",
    "gmm = GaussianMixture(\n",
    "    n_components=1,\n",
    "    covariance_type='spherical'\n",
    ")\n",
    "\n",
    "gmm.fit(np.concatenate([x,y],axis=0))\n",
    "y_ = gmm.predict(x_)\n",
    "\n",
    "#plt.scatter(x.reshape(-1),y)\n",
    "plt.plot(x_,y_)\n",
    "plt.show()"
   ]
  },
  {
   "cell_type": "code",
   "execution_count": 42,
   "metadata": {},
   "outputs": [],
   "source": [
    "from sklearn.gaussian_process import kernels as sk_kern"
   ]
  },
  {
   "cell_type": "code",
   "execution_count": 43,
   "metadata": {},
   "outputs": [
    {
     "ename": "NameError",
     "evalue": "name 'GaussianProcessRegressor' is not defined",
     "output_type": "error",
     "traceback": [
      "\u001b[1;31m---------------------------------------------------------------------------\u001b[0m",
      "\u001b[1;31mNameError\u001b[0m                                 Traceback (most recent call last)",
      "\u001b[1;32m<ipython-input-43-179aae9bc6d2>\u001b[0m in \u001b[0;36m<module>\u001b[1;34m\u001b[0m\n\u001b[0;32m      1\u001b[0m \u001b[0mkernel\u001b[0m \u001b[1;33m=\u001b[0m \u001b[0msk_kern\u001b[0m\u001b[1;33m.\u001b[0m\u001b[0mRBF\u001b[0m\u001b[1;33m(\u001b[0m\u001b[1;36m1.0\u001b[0m\u001b[1;33m,\u001b[0m \u001b[1;33m(\u001b[0m\u001b[1;36m1e-3\u001b[0m\u001b[1;33m,\u001b[0m \u001b[1;36m1e3\u001b[0m\u001b[1;33m)\u001b[0m\u001b[1;33m)\u001b[0m \u001b[1;33m+\u001b[0m \u001b[0msk_kern\u001b[0m\u001b[1;33m.\u001b[0m\u001b[0mConstantKernel\u001b[0m\u001b[1;33m(\u001b[0m\u001b[1;36m1.0\u001b[0m\u001b[1;33m,\u001b[0m \u001b[1;33m(\u001b[0m\u001b[1;36m1e-3\u001b[0m\u001b[1;33m,\u001b[0m \u001b[1;36m1e3\u001b[0m\u001b[1;33m)\u001b[0m\u001b[1;33m)\u001b[0m \u001b[1;33m+\u001b[0m \u001b[0msk_kern\u001b[0m\u001b[1;33m.\u001b[0m\u001b[0mWhiteKernel\u001b[0m\u001b[1;33m(\u001b[0m\u001b[1;33m)\u001b[0m\u001b[1;33m\u001b[0m\u001b[1;33m\u001b[0m\u001b[0m\n\u001b[1;32m----> 2\u001b[1;33m clf = GaussianProcessRegressor(\n\u001b[0m\u001b[0;32m      3\u001b[0m     \u001b[0mkernel\u001b[0m\u001b[1;33m=\u001b[0m\u001b[0mkernel\u001b[0m\u001b[1;33m,\u001b[0m\u001b[1;33m\u001b[0m\u001b[1;33m\u001b[0m\u001b[0m\n\u001b[0;32m      4\u001b[0m     \u001b[0malpha\u001b[0m\u001b[1;33m=\u001b[0m\u001b[1;36m1e-10\u001b[0m\u001b[1;33m,\u001b[0m\u001b[1;33m\u001b[0m\u001b[1;33m\u001b[0m\u001b[0m\n\u001b[0;32m      5\u001b[0m     \u001b[0moptimizer\u001b[0m\u001b[1;33m=\u001b[0m\u001b[1;34m\"fmin_l_bfgs_b\"\u001b[0m\u001b[1;33m,\u001b[0m\u001b[1;33m\u001b[0m\u001b[1;33m\u001b[0m\u001b[0m\n",
      "\u001b[1;31mNameError\u001b[0m: name 'GaussianProcessRegressor' is not defined"
     ]
    }
   ],
   "source": [
    "kernel = sk_kern.RBF(1.0, (1e-3, 1e3)) + sk_kern.ConstantKernel(1.0, (1e-3, 1e3)) + sk_kern.WhiteKernel()\n",
    "clf = GaussianProcessRegressor(\n",
    "    kernel=kernel,\n",
    "    alpha=1e-10, \n",
    "    optimizer=\"fmin_l_bfgs_b\", \n",
    "    n_restarts_optimizer=20,\n",
    "    normalize_y=True)"
   ]
  }
 ],
 "metadata": {
  "kernelspec": {
   "display_name": "Python 3",
   "language": "python",
   "name": "python3"
  },
  "language_info": {
   "codemirror_mode": {
    "name": "ipython",
    "version": 3
   },
   "file_extension": ".py",
   "mimetype": "text/x-python",
   "name": "python",
   "nbconvert_exporter": "python",
   "pygments_lexer": "ipython3",
   "version": "3.7.4"
  }
 },
 "nbformat": 4,
 "nbformat_minor": 4
}
