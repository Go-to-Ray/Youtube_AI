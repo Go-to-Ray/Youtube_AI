{
 "cells": [
  {
   "cell_type": "markdown",
   "metadata": {},
   "source": [
    "# 二階の常微分方程式を解く\n",
    "- オイラー法(Euler)\n",
    "- damped oscillation\n",
    "\n",
    "Damped Mass Spring System(マス-バネ-ダンパーシステム)とは\n",
    "その名の通り「質点」「バネ」「ダンパー」の三つを構成要素に持った系のこと  \n",
    "方程式では以下のように書ける。\n",
    "\n",
    "$$\n",
    "m \\frac{d^2 x}{{dt}^2} + c \\frac{dx}{dt} + k x = 0 \n",
    "$$\n",
    "\n",
    "解析解を出すこともできるが、応用的な話では多質点系になるので、一般には解けない。なので勉強のつもりで数値解を求めてみる。"
   ]
  },
  {
   "cell_type": "code",
   "execution_count": 1,
   "metadata": {},
   "outputs": [],
   "source": [
    "import numpy as np\n",
    "import matplotlib.pyplot as plt\n",
    "%matplotlib inline"
   ]
  },
  {
   "cell_type": "code",
   "execution_count": 111,
   "metadata": {},
   "outputs": [
    {
     "name": "stdout",
     "output_type": "stream",
     "text": [
      "(減衰率1/2以上の)減衰振動\n"
     ]
    },
    {
     "data": {
      "image/png": "[encoded data removed]",
      "text/plain": [
       "<Figure size 432x288 with 1 Axes>"
      ]
     },
     "metadata": {
      "needs_background": "light"
     },
     "output_type": "display_data"
    }
   ],
   "source": [
    "#質点の質量:m\n",
    "#粘性係数:c\n",
    "#ばね係数:k\n",
    "#初期条件:init[a,v,x]\n",
    "#時間:t\n",
    "#刻み幅:dt\n",
    "def damped_oscillation(m=1, c=1, k=2.5, init=[None,0,1],t=20,dt=0.01):\n",
    "    if (c**2) / (4*m*k) == 1:\n",
    "        print(\"臨界減衰\")\n",
    "        \n",
    "    elif (c**2) / (4*m*k) > 1:\n",
    "        print(\"過減衰\")\n",
    "        \n",
    "    #以下の条件式を満たすと、一周期立っても減衰率が1/2未満（導出は送った写真（間違ってるかも））\n",
    "    else:\n",
    "        if (c**2) / (4*m*k) < 1 / ( 1 + ((2*np.pi)/np.log(2))**2 ):\n",
    "            print(\"(減衰率1/2未満の)減衰振動\")\n",
    "        else:\n",
    "            print(\"(減衰率1/2以上の)減衰振動\")\n",
    "        \n",
    "    n_step = int(t/dt)-1\n",
    "    a = init[0]\n",
    "    v = init[1]\n",
    "    x = init[2]\n",
    "    t_lst = np.arange(0,t,dt)\n",
    "    a_lst = [a]\n",
    "    v_lst = [v]\n",
    "    x_lst = [x]\n",
    "    \n",
    "    for i in range(n_step):\n",
    "        a = -(c*v + k*x)/m\n",
    "        v += a*dt\n",
    "        x += v*dt\n",
    "\n",
    "        a_lst.append(a)\n",
    "        v_lst.append(v)\n",
    "        x_lst.append(x)\n",
    "\n",
    "    return t_lst, a_lst, v_lst, x_lst\n",
    "        \n",
    "\n",
    "t_lst, _a_lst, v_lst, x_lst = damped_oscillation(m=1,c=1,k=20)\n",
    "plt.plot(t_lst,x_lst)\n",
    "plt.show()"
   ]
  },
  {
   "cell_type": "code",
   "execution_count": 36,
   "metadata": {},
   "outputs": [
    {
     "data": {
      "text/plain": [
       "[<matplotlib.lines.Line2D at 0x1fc68dec7f0>]"
      ]
     },
     "execution_count": 36,
     "metadata": {},
     "output_type": "execute_result"
    },
    {
     "data": {
      "image/png": "[encoded data removed]",
      "text/plain": [
       "<Figure size 432x288 with 1 Axes>"
      ]
     },
     "metadata": {
      "needs_background": "light"
     },
     "output_type": "display_data"
    }
   ],
   "source": [
    "t = np.arange(0,10,0.1)\n",
    "x = np.exp(-t/2)*np.cos(1.5*t)\n",
    "plt.plot(t,x)"
   ]
  },
  {
   "cell_type": "code",
   "execution_count": null,
   "metadata": {},
   "outputs": [],
   "source": [
    "t = \n",
    "for i in range()"
   ]
  },
  {
   "cell_type": "code",
   "execution_count": 13,
   "metadata": {},
   "outputs": [
    {
     "name": "stdout",
     "output_type": "stream",
     "text": [
      "aa\n"
     ]
    }
   ],
   "source": [
    "a = None\n",
    "if a ==None:\n",
    "    print(\"aa\")"
   ]
  },
  {
   "cell_type": "code",
   "execution_count": 70,
   "metadata": {},
   "outputs": [
    {
     "ename": "TypeError",
     "evalue": "can't convert complex to int",
     "output_type": "error",
     "traceback": [
      "\u001b[1;31m---------------------------------------------------------------------------\u001b[0m",
      "\u001b[1;31mTypeError\u001b[0m                                 Traceback (most recent call last)",
      "\u001b[1;32m<ipython-input-70-b49e4637e296>\u001b[0m in \u001b[0;36m<module>\u001b[1;34m\u001b[0m\n\u001b[0;32m      1\u001b[0m \u001b[0ma\u001b[0m \u001b[1;33m=\u001b[0m \u001b[1;36m2j\u001b[0m\u001b[1;33m+\u001b[0m\u001b[1;36m1\u001b[0m\u001b[1;33m\u001b[0m\u001b[1;33m\u001b[0m\u001b[0m\n\u001b[0;32m      2\u001b[0m \u001b[0mb\u001b[0m \u001b[1;33m=\u001b[0m \u001b[1;36m2\u001b[0m\u001b[1;33m\u001b[0m\u001b[1;33m\u001b[0m\u001b[0m\n\u001b[1;32m----> 3\u001b[1;33m \u001b[0mprint\u001b[0m\u001b[1;33m(\u001b[0m\u001b[0mint\u001b[0m\u001b[1;33m(\u001b[0m\u001b[0ma\u001b[0m\u001b[1;33m)\u001b[0m\u001b[1;33m)\u001b[0m\u001b[1;33m\u001b[0m\u001b[1;33m\u001b[0m\u001b[0m\n\u001b[0m\u001b[0;32m      4\u001b[0m \u001b[0mprint\u001b[0m\u001b[1;33m(\u001b[0m\u001b[0ma\u001b[0m\u001b[1;33m<\u001b[0m\u001b[0mb\u001b[0m\u001b[1;33m)\u001b[0m\u001b[1;33m\u001b[0m\u001b[1;33m\u001b[0m\u001b[0m\n",
      "\u001b[1;31mTypeError\u001b[0m: can't convert complex to int"
     ]
    }
   ],
   "source": [
    "a = 2j+1\n",
    "b = 2\n",
    "print(int(a))\n",
    "print(a<b)"
   ]
  },
  {
   "cell_type": "code",
   "execution_count": 76,
   "metadata": {},
   "outputs": [
    {
     "name": "stdout",
     "output_type": "stream",
     "text": [
      "1.0\n"
     ]
    }
   ],
   "source": [
    "c = np.exp(2*np.pi/np.sqrt(3)*1j)\n",
    "print(np.abs(c))"
   ]
  },
  {
   "cell_type": "code",
   "execution_count": 96,
   "metadata": {},
   "outputs": [
    {
     "name": "stdout",
     "output_type": "stream",
     "text": [
      "-0.6931471805599453\n",
      "-0.6931471805599453\n"
     ]
    }
   ],
   "source": [
    "print(np.log(1/2))\n",
    "print(-np.log(2))"
   ]
  },
  {
   "cell_type": "code",
   "execution_count": null,
   "metadata": {},
   "outputs": [],
   "source": []
  },
  {
   "cell_type": "code",
   "execution_count": null,
   "metadata": {},
   "outputs": [],
   "source": []
  },
  {
   "cell_type": "code",
   "execution_count": null,
   "metadata": {},
   "outputs": [],
   "source": []
  },
  {
   "cell_type": "code",
   "execution_count": null,
   "metadata": {},
   "outputs": [],
   "source": []
  },
  {
   "cell_type": "code",
   "execution_count": null,
   "metadata": {},
   "outputs": [],
   "source": []
  }
 ],
 "metadata": {
  "kernelspec": {
   "display_name": "Python 3",
   "language": "python",
   "name": "python3"
  },
  "language_info": {
   "codemirror_mode": {
    "name": "ipython",
    "version": 3
   },
   "file_extension": ".py",
   "mimetype": "text/x-python",
   "name": "python",
   "nbconvert_exporter": "python",
   "pygments_lexer": "ipython3",
   "version": "3.7.1"
  }
 },
 "nbformat": 4,
 "nbformat_minor": 4
}
