{
 "cells": [
  {
   "cell_type": "markdown",
   "metadata": {},
   "source": [
    "# SVMとSVRのPythonによるフルスクラッチ実装"
   ]
  },
  {
   "cell_type": "code",
   "execution_count": 1,
   "metadata": {},
   "outputs": [],
   "source": [
    "import numpy as np\n",
    "import matplotlib.pyplot as plt\n",
    "import pandas as pd"
   ]
  },
  {
   "cell_type": "markdown",
   "metadata": {},
   "source": [
    "## テスト用のデータを生成する"
   ]
  },
  {
   "cell_type": "code",
   "execution_count": 2,
   "metadata": {},
   "outputs": [
    {
     "data": {
      "text/plain": [
       "150"
      ]
     },
     "execution_count": 2,
     "metadata": {},
     "output_type": "execute_result"
    }
   ],
   "source": [
    "np.random.seed(seed=0)\n",
    "data0 = 50             #1.データの数\n",
    "data1 = 50\n",
    "data2 = 50\n",
    "\n",
    "mean0 = [3, 4]          #2.データ０における平均値（ｘ、ｙ）\n",
    "mean1 = [4, -1]         #3.データ１における平均値（ｘ、ｙ）\n",
    "mean2 = [6, 3]\n",
    "\n",
    "cov0  = [[1.0, 0.8],\n",
    "         [0.8, 1.0]]    #4.データ０における共分散行列\n",
    "cov1  = [[1.0, 0.2],\n",
    "         [0.2, 1.0]]    #5.データ１における共分散行列\n",
    "cov2  = [[2.0, -1.0],\n",
    "         [-1.0, 1.0]]    #4.データ０における共分散行列\n",
    "\n",
    "\n",
    "#二次元正規分布を生成する（0~5の値によって変動する）\n",
    "label0 = np.random.multivariate_normal(mean0, cov0, data0)\n",
    "label1 = np.random.multivariate_normal(mean1, cov1, data1)\n",
    "label2 = np.random.multivariate_normal(mean2, cov2, data2)\n",
    "\n",
    "#それぞれのデータの結合\n",
    "X = np.concatenate((label0, label2, label1))\n",
    "y = np.concatenate(((np.ones(data0+data2)), (np.ones(data1)*(-1)))).astype(int)\n",
    "\n",
    "np.random.seed(seed=0)\n",
    "#順番を入れ替える\n",
    "random_i = np.random.permutation(np.arange(data0+data1+data2))\n",
    "X = X[random_i]\n",
    "y = y[random_i]\n",
    "len(y)"
   ]
  },
  {
   "cell_type": "markdown",
   "metadata": {},
   "source": [
    "### matplotlibを使って図示する"
   ]
  },
  {
   "cell_type": "code",
   "execution_count": 3,
   "metadata": {},
   "outputs": [
    {
     "data": {
      "image/png": "[encoded data removed]",
      "text/plain": [
       "<Figure size 432x288 with 1 Axes>"
      ]
     },
     "metadata": {
      "needs_background": "light"
     },
     "output_type": "display_data"
    }
   ],
   "source": [
    "plt.scatter(label0[:,0],label0[:,1],c=\"y\",label=1)\n",
    "plt.scatter(label2[:,0],label2[:,1],c=\"y\")\n",
    "plt.scatter(label1[:,0],label1[:,1],c=\"c\",label=-1)\n",
    "plt.legend()\n",
    "plt.xlabel('x')\n",
    "plt.ylabel('y')\n",
    "plt.show()"
   ]
  },
  {
   "cell_type": "markdown",
   "metadata": {},
   "source": [
    "## SVMのフルスクラッチ実装(Hardmergin)\n",
    "\n",
    "最適化手法のおさらい  \n",
    "$$\n",
    "\\begin{align}\n",
    "\\mathrm{w} &= \\sum_{i = 1}^{N}\\lambda_i y_i x_i  \\\\\n",
    "b &= y_i-\\sum_{i=1}^{N}\\sum_{j=1}^{N}(\\lambda_i y_i x_i^T x_j) \\\\\n",
    "\\lambda_i^{(n+1)} &= \\lambda_i^{(n)} + \\alpha(1-\\sum_{j=1}^{N} \\lambda_j y_i y_j K(x_i,x_j))\n",
    "\\end{align}\n",
    "$$\n",
    "Kはカーネル法を使う場合に使用する\n"
   ]
  },
  {
   "cell_type": "code",
   "execution_count": 4,
   "metadata": {},
   "outputs": [],
   "source": [
    "class SvmFullScratch:\n",
    "    def __init__(self,iter_num=20,lr=1e-3,kernel='linear'):\n",
    "        self.iter_num = iter_num\n",
    "        self._lr = lr\n",
    "        self._kernel = kernel\n",
    "        self._sv = []\n",
    "        self._y = []\n",
    "        \n",
    "        \n",
    "    def _lagrange(self, X, y):\n",
    "        for i in range(len(X)):\n",
    "            lam_sum = 0\n",
    "            for j in range(len(X)):\n",
    "                lam_sum += self._lambda[j] * y[i] * y[j] * self.kernel(X[i],X[j])\n",
    "            self._lambda[i] += self._lr*(1-lam_sum)\n",
    "            \n",
    "            if self._lambda[i] < 0:\n",
    "                self._lambda[i] = 0\n",
    "        \n",
    "    def train(self, X, y):\n",
    "        self._lambda = np.random.rand(len(X),1)\n",
    "        for i in range(self.iter_num):\n",
    "            self._lagrange(X,y)\n",
    "            \n",
    "        index_sv = np.where(self._lambda >= 1e-6)[0]\n",
    "        print(index_sv)\n",
    "        self._lambda = self._lambda[index_sv]\n",
    "        self._sv = X[index_sv]\n",
    "        self._y = y[index_sv]\n",
    "    \n",
    "    def kernel(self, xi, xj):\n",
    "        if self._kernel == \"linear\":\n",
    "            K = np.dot(xi.T,xj)\n",
    "            return K\n",
    "        elif self._kernel == \"poly\":\n",
    "            gamma = 0.5\n",
    "            d = 3\n",
    "            K = (gamma + np.dot(xi.T,xj))**d\n",
    "            return K\n",
    "        elif self._kernel == \"rbf\":\n",
    "            gamma = 0.5\n",
    "            K = -gamma*np.dot((xi-xj).T,(xi-xj))\n",
    "            return K\n",
    "        else:\n",
    "            print(\"cannot found\", self._kernel)\n",
    "    \n",
    "    def predict(self,X):\n",
    "        y_hat = 0\n",
    "        print(X.shape)\n",
    "        print(self._sv)\n",
    "        for i in range(len(self._sv)):\n",
    "            #y_hat += self._lambda[i] * self._y[i] * self.kernel(X.T, self._sv[i].T)\n",
    "            y_hat += self._lambda[i] * self._y[i] * self.kernel(X, X)\n",
    "        return y_hat\n",
    "            "
   ]
  },
  {
   "cell_type": "code",
   "execution_count": 13,
   "metadata": {},
   "outputs": [],
   "source": [
    "from matplotlib.colors import ListedColormap\n",
    "\n",
    "# 可視化関数\n",
    "def plot_decision_regions(X, model):\n",
    "    plt.scatter(X[:,0], X[:,1], s=80, c=y, marker='o')\n",
    "    #print(model.sv_lt)\n",
    "    for sv in model._sv:\n",
    "        plt.scatter(sv[0], sv[1], s=80, c='c', marker='o')\n",
    "    \n",
    "    #サポートベクターも同様にプロット\n",
    "    step = 0.1\n",
    "    mesh_f0, mesh_f1  = np.meshgrid(np.arange(np.min(X[:,0])-0.5, np.max(X[:,0])+0.5, step), np.arange(np.min(X[:,1])-0.5, np.max(X[:,1])+0.5, step))\n",
    "    mesh = np.c_[np.ravel(mesh_f0),np.ravel(mesh_f1)]\n",
    "    pred = model.predict(mesh).reshape(mesh_f0.shape)\n",
    "    plt.contour(mesh_f0, mesh_f1, pred, 1)\n",
    "    plt.show()"
   ]
  },
  {
   "cell_type": "code",
   "execution_count": 15,
   "metadata": {},
   "outputs": [
    {
     "name": "stdout",
     "output_type": "stream",
     "text": [
      "[  1   3  20  24  30  34  47  56  62  83 129 130 131]\n"
     ]
    },
    {
     "ename": "IndexError",
     "evalue": "too many indices for array",
     "output_type": "error",
     "traceback": [
      "\u001b[1;31m---------------------------------------------------------------------------\u001b[0m",
      "\u001b[1;31mIndexError\u001b[0m                                Traceback (most recent call last)",
      "\u001b[1;32m<ipython-input-15-f84591472b8b>\u001b[0m in \u001b[0;36m<module>\u001b[1;34m\u001b[0m\n\u001b[0;32m      1\u001b[0m \u001b[0msvm\u001b[0m \u001b[1;33m=\u001b[0m \u001b[0mSvmFullScratch\u001b[0m\u001b[1;33m(\u001b[0m\u001b[1;36m20\u001b[0m\u001b[1;33m,\u001b[0m \u001b[1;36m1e-4\u001b[0m\u001b[1;33m,\u001b[0m\u001b[0mkernel\u001b[0m\u001b[1;33m=\u001b[0m\u001b[1;34m\"poly\"\u001b[0m\u001b[1;33m)\u001b[0m\u001b[1;33m\u001b[0m\u001b[1;33m\u001b[0m\u001b[0m\n\u001b[0;32m      2\u001b[0m \u001b[0msvm\u001b[0m\u001b[1;33m.\u001b[0m\u001b[0mtrain\u001b[0m\u001b[1;33m(\u001b[0m\u001b[0mX\u001b[0m\u001b[1;33m,\u001b[0m \u001b[0my\u001b[0m\u001b[1;33m)\u001b[0m\u001b[1;33m\u001b[0m\u001b[1;33m\u001b[0m\u001b[0m\n\u001b[1;32m----> 3\u001b[1;33m \u001b[0mplot_decision_regions\u001b[0m\u001b[1;33m(\u001b[0m\u001b[0mX\u001b[0m\u001b[1;33m[\u001b[0m\u001b[1;36m0\u001b[0m\u001b[1;33m]\u001b[0m\u001b[1;33m,\u001b[0m\u001b[0msvm\u001b[0m\u001b[1;33m)\u001b[0m\u001b[1;33m\u001b[0m\u001b[1;33m\u001b[0m\u001b[0m\n\u001b[0m",
      "\u001b[1;32m<ipython-input-13-7b6b896f181e>\u001b[0m in \u001b[0;36mplot_decision_regions\u001b[1;34m(X, model)\u001b[0m\n\u001b[0;32m      3\u001b[0m \u001b[1;31m# 可視化関数\u001b[0m\u001b[1;33m\u001b[0m\u001b[1;33m\u001b[0m\u001b[1;33m\u001b[0m\u001b[0m\n\u001b[0;32m      4\u001b[0m \u001b[1;32mdef\u001b[0m \u001b[0mplot_decision_regions\u001b[0m\u001b[1;33m(\u001b[0m\u001b[0mX\u001b[0m\u001b[1;33m,\u001b[0m \u001b[0mmodel\u001b[0m\u001b[1;33m)\u001b[0m\u001b[1;33m:\u001b[0m\u001b[1;33m\u001b[0m\u001b[1;33m\u001b[0m\u001b[0m\n\u001b[1;32m----> 5\u001b[1;33m     \u001b[0mplt\u001b[0m\u001b[1;33m.\u001b[0m\u001b[0mscatter\u001b[0m\u001b[1;33m(\u001b[0m\u001b[0mX\u001b[0m\u001b[1;33m[\u001b[0m\u001b[1;33m:\u001b[0m\u001b[1;33m,\u001b[0m\u001b[1;36m0\u001b[0m\u001b[1;33m]\u001b[0m\u001b[1;33m,\u001b[0m \u001b[0mX\u001b[0m\u001b[1;33m[\u001b[0m\u001b[1;33m:\u001b[0m\u001b[1;33m,\u001b[0m\u001b[1;36m1\u001b[0m\u001b[1;33m]\u001b[0m\u001b[1;33m,\u001b[0m \u001b[0ms\u001b[0m\u001b[1;33m=\u001b[0m\u001b[1;36m80\u001b[0m\u001b[1;33m,\u001b[0m \u001b[0mc\u001b[0m\u001b[1;33m=\u001b[0m\u001b[0my\u001b[0m\u001b[1;33m,\u001b[0m \u001b[0mmarker\u001b[0m\u001b[1;33m=\u001b[0m\u001b[1;34m'o'\u001b[0m\u001b[1;33m)\u001b[0m\u001b[1;33m\u001b[0m\u001b[1;33m\u001b[0m\u001b[0m\n\u001b[0m\u001b[0;32m      6\u001b[0m     \u001b[1;31m#print(model.sv_lt)\u001b[0m\u001b[1;33m\u001b[0m\u001b[1;33m\u001b[0m\u001b[1;33m\u001b[0m\u001b[0m\n\u001b[0;32m      7\u001b[0m     \u001b[1;32mfor\u001b[0m \u001b[0msv\u001b[0m \u001b[1;32min\u001b[0m \u001b[0mmodel\u001b[0m\u001b[1;33m.\u001b[0m\u001b[0m_sv\u001b[0m\u001b[1;33m:\u001b[0m\u001b[1;33m\u001b[0m\u001b[1;33m\u001b[0m\u001b[0m\n",
      "\u001b[1;31mIndexError\u001b[0m: too many indices for array"
     ]
    }
   ],
   "source": [
    "svm = SvmFullScratch(20, 1e-4,kernel=\"poly\")\n",
    "svm.train(X, y)\n",
    "plot_decision_regions(X,svm)"
   ]
  },
  {
   "cell_type": "code",
   "execution_count": null,
   "metadata": {},
   "outputs": [],
   "source": [
    "#これちょっと書き換える\n",
    "\n",
    "import matplotlib.pyplot as plt\n",
    "from matplotlib.colors import ListedColormap\n",
    "import matplotlib.patches as mpatches\n",
    "\n",
    "def decision_region(X, y, model, step=0.01, title='decision region', xlabel='xlabel', ylabel='ylabel', target_names=['versicolor', 'virginica']):\n",
    "    # setting\n",
    "    scatter_color = ['red', 'blue']\n",
    "    contourf_color = ['pink', 'skyblue']\n",
    "    n_class = 2\n",
    "\n",
    "    # pred\n",
    "    mesh_f0, mesh_f1  = np.meshgrid(np.arange(np.min(X[:,0])-0.5, np.max(X[:,0])+0.5, step), np.arange(np.min(X[:,1])-0.5, np.max(X[:,1])+0.5, step))\n",
    "    mesh = np.c_[np.ravel(mesh_f0),np.ravel(mesh_f1)]\n",
    "    y_pred = model.predict(mesh).reshape(mesh_f0.shape)\n",
    "\n",
    "    # plot\n",
    "    plt.title(title)\n",
    "    plt.xlabel(xlabel)\n",
    "    plt.ylabel(ylabel)\n",
    "    plt.contourf(mesh_f0, mesh_f1, y_pred, n_class-1, cmap=ListedColormap(contourf_color))\n",
    "    plt.contour(mesh_f0, mesh_f1, y_pred, n_class-1, colors='y', linewidths=3, alpha=0.5)\n",
    "    for i, target in enumerate(set(y)):\n",
    "        plt.scatter(X[y==target][:, 0], X[y==target][:, 1], s=80, color=scatter_color[i], label=target_names[i], marker='o')\n",
    "    patches = [mpatches.Patch(color=scatter_color[i], label=target_names[i]) for i in range(n_class)]\n",
    "    plt.legend(handles=patches)\n",
    "    plt.legend()\n",
    "    plt.show()"
   ]
  },
  {
   "cell_type": "code",
   "execution_count": null,
   "metadata": {},
   "outputs": [],
   "source": []
  }
 ],
 "metadata": {
  "kernelspec": {
   "display_name": "Python 3",
   "language": "python",
   "name": "python3"
  },
  "language_info": {
   "codemirror_mode": {
    "name": "ipython",
    "version": 3
   },
   "file_extension": ".py",
   "mimetype": "text/x-python",
   "name": "python",
   "nbconvert_exporter": "python",
   "pygments_lexer": "ipython3",
   "version": "3.7.4"
  }
 },
 "nbformat": 4,
 "nbformat_minor": 4
}
