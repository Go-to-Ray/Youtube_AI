{
 "cells": [
  {
   "cell_type": "markdown",
   "metadata": {},
   "source": [
    "# 一次元CNNの時系列解析"
   ]
  },
  {
   "cell_type": "code",
   "execution_count": 83,
   "metadata": {},
   "outputs": [],
   "source": [
    "import numpy as np\n",
    "import matplotlib.pyplot as plt\n",
    "\n",
    "%matplotlib inline"
   ]
  },
  {
   "cell_type": "markdown",
   "metadata": {},
   "source": [
    "### とりあえずダミーデータ作成"
   ]
  },
  {
   "cell_type": "code",
   "execution_count": 84,
   "metadata": {},
   "outputs": [
    {
     "name": "stdout",
     "output_type": "stream",
     "text": [
      "(100,)\n",
      "(10000, 100)\n"
     ]
    },
    {
     "data": {
      "text/plain": [
       "[<matplotlib.lines.Line2D at 0x276f79c8160>]"
      ]
     },
     "execution_count": 84,
     "metadata": {},
     "output_type": "execute_result"
    },
    {
     "data": {
      "image/png": "[encoded data removed]",
      "text/plain": [
       "<Figure size 432x288 with 1 Axes>"
      ]
     },
     "metadata": {
      "needs_background": "light"
     },
     "output_type": "display_data"
    }
   ],
   "source": [
    "n_sample = 10000\n",
    "data_length = 100\n",
    "\n",
    "x = np.linspace(0,10,data_length)          #基準の時間軸生成\n",
    "_x = np.random.randn(n_sample,1)           #sin波を生成するために作成\n",
    "y = np.sin(x.reshape(1,data_length)+_x)    #sin波を適当にn_sample作成(n_sample,data_length)\n",
    "#外乱（工学的にdを採用しただけ）→noiseとかw(white noise)のがいい？\n",
    "d = [np.random.randn(data_length) for i in range(n_sample)]\n",
    "y_origin = y\n",
    "y_noise = y + d\n",
    "\n",
    "print(x.shape)      #(data_length,)→(100,)\n",
    "print(y.shape)      #(n_sample,data_length)→(10000,100)\n",
    "\n",
    "#二つだけプロット\n",
    "plt.plot(x,y_origin[0])\n",
    "plt.plot(x,y_noise[1])"
   ]
  },
  {
   "cell_type": "markdown",
   "metadata": {},
   "source": [
    "## 必要そうな関数作成"
   ]
  },
  {
   "cell_type": "markdown",
   "metadata": {},
   "source": [
    "#### 全結合層"
   ]
  },
  {
   "cell_type": "code",
   "execution_count": 85,
   "metadata": {},
   "outputs": [],
   "source": [
    "class Affine():\n",
    "    pass"
   ]
  },
  {
   "cell_type": "markdown",
   "metadata": {},
   "source": [
    "#### Pooling層"
   ]
  },
  {
   "cell_type": "code",
   "execution_count": 86,
   "metadata": {},
   "outputs": [],
   "source": [
    "class Pooling():\n",
    "    pass"
   ]
  },
  {
   "cell_type": "markdown",
   "metadata": {},
   "source": [
    "#### Atrous層"
   ]
  },
  {
   "cell_type": "code",
   "execution_count": null,
   "metadata": {},
   "outputs": [],
   "source": []
  },
  {
   "cell_type": "markdown",
   "metadata": {},
   "source": [
    "#### バッチ正規化"
   ]
  },
  {
   "cell_type": "code",
   "execution_count": null,
   "metadata": {},
   "outputs": [],
   "source": []
  },
  {
   "cell_type": "markdown",
   "metadata": {},
   "source": [
    "#### im2col col2imテスト"
   ]
  },
  {
   "cell_type": "code",
   "execution_count": 87,
   "metadata": {},
   "outputs": [
    {
     "data": {
      "text/plain": [
       "array([[[ 0,  1,  2,  3],\n",
       "        [ 4,  5,  6,  7],\n",
       "        [ 8,  9, 10, 11]],\n",
       "\n",
       "       [[ 4,  5,  6,  7],\n",
       "        [ 8,  9, 10, 11],\n",
       "        [12, 13, 14, 15]]])"
      ]
     },
     "execution_count": 87,
     "metadata": {},
     "output_type": "execute_result"
    }
   ],
   "source": [
    "a = np.arange(12).reshape(3,4)\n",
    "X = np.concatenate((a,a+4)).reshape(2,3,4)    #X(B,C_in,X_in)\n",
    "X"
   ]
  },
  {
   "cell_type": "code",
   "execution_count": 88,
   "metadata": {},
   "outputs": [
    {
     "data": {
      "text/plain": [
       "array([[[ 0,  1,  2],\n",
       "        [ 3,  4,  5],\n",
       "        [ 6,  7,  8]],\n",
       "\n",
       "       [[ 9, 10, 11],\n",
       "        [12, 13, 14],\n",
       "        [15, 16, 17]]])"
      ]
     },
     "execution_count": 88,
     "metadata": {},
     "output_type": "execute_result"
    }
   ],
   "source": [
    "W = np.arange(18).reshape(2,3,3)    #W(C_out,C_in,F_w)\n",
    "W"
   ]
  },
  {
   "cell_type": "code",
   "execution_count": 89,
   "metadata": {},
   "outputs": [
    {
     "data": {
      "text/plain": [
       "array([[[ 258.,  294.],\n",
       "        [ 663.,  780.]],\n",
       "\n",
       "       [[ 402.,  438.],\n",
       "        [1131., 1248.]]])"
      ]
     },
     "execution_count": 89,
     "metadata": {},
     "output_type": "execute_result"
    }
   ],
   "source": [
    "Y = np.zeros((2,2,2))    #Y(B,C_out,X_out)\n",
    "\n",
    "for i in range(2):\n",
    "    for j in range(2):\n",
    "        for k in range(2):\n",
    "            Y[j,i,k] = np.sum(X[j,0:3,k:k+3]*W[i,0:3,0:3])\n",
    "Y    #Y(B,C_out,X_out)"
   ]
  },
  {
   "cell_type": "code",
   "execution_count": 90,
   "metadata": {},
   "outputs": [
    {
     "name": "stdout",
     "output_type": "stream",
     "text": [
      "X =\n",
      " [[ 0.  1.  4.  5.]\n",
      " [ 1.  2.  5.  6.]\n",
      " [ 2.  3.  6.  7.]\n",
      " [ 4.  5.  8.  9.]\n",
      " [ 5.  6.  9. 10.]\n",
      " [ 6.  7. 10. 11.]\n",
      " [ 8.  9. 12. 13.]\n",
      " [ 9. 10. 13. 14.]\n",
      " [10. 11. 14. 15.]]\n",
      "W =\n",
      " [[ 0  1  2  3  4  5  6  7  8]\n",
      " [ 9 10 11 12 13 14 15 16 17]]\n",
      "[[ 258.  663.]\n",
      " [ 294.  780.]\n",
      " [ 402. 1131.]\n",
      " [ 438. 1248.]]\n",
      "Y =\n",
      " [[[ 258.  294.]\n",
      "  [ 663.  780.]]\n",
      "\n",
      " [[ 402.  438.]\n",
      "  [1131. 1248.]]]\n"
     ]
    }
   ],
   "source": [
    "def im2col(img,F_w,X_out):\n",
    "    #入力時系列データの形を取得\n",
    "    B, C_in, X_in = img.shape\n",
    "    \n",
    "    col = np.zeros((B,C_in,F_w,X_out))    #(B,C_in,F_w,X_out)\n",
    "    \n",
    "    for w in range(F_w):\n",
    "        col[:,:,w,:] = X[:,:,w:w+X_out]\n",
    "    \n",
    "    col = col.transpose(1,2,0,3).reshape(9,4)    #(C_in,F_w,B,X_out)→(C_in*F_w,B*X_out)\n",
    "    \n",
    "    return col\n",
    "\n",
    "X_col = im2col(X,3,2)\n",
    "print(\"X =\\n\",X_col)\n",
    "print(\"W =\\n\",W.reshape(2,9))\n",
    "w_col = W.reshape(2,9)                   #(C_out,C_in*F_w)\n",
    "print(np.dot(W.reshape(2,9),X_col).T)\n",
    "\n",
    "Y = np.dot(w_col,X_col).T.reshape(2,2,2).transpose(0,2,1)\n",
    "print(\"Y =\\n\",Y)\n"
   ]
  },
  {
   "cell_type": "markdown",
   "metadata": {},
   "source": [
    "#### 畳み込み層"
   ]
  },
  {
   "cell_type": "code",
   "execution_count": 91,
   "metadata": {},
   "outputs": [],
   "source": [
    "class convlayer1D:\n",
    "    def __init__(self,C_in,X_in,C_out,F_w=3,stride=1,pad=0,activation=\"ReLU\"):\n",
    "        self.params = {\"C_in\":C_in, \"X_in\":X_in, \"C_out\":C_out, \"F_w\":F_w, \"S\":stride, \"P\":pad}\n",
    "        \n",
    "        #Heの初期値前脳のノード数nの時(2/n)^1/2\n",
    "        He_w = X_in * C_in\n",
    "        He_b = X_in\n",
    "        self.W = np.sqrt(2/He_w) * np.random.randn(C_out,C_in,F_w)\n",
    "        self.b = np.sqrt(2/He_b) * np.random.randn(1,C_out)\n",
    "        \n",
    "        #出力画像サイズ\n",
    "        self.y_ch = C_out                                             #出力データchannel\n",
    "        self.y_w  = (X_in - F_w + 2*pad) // stride + 1                #出力データ幅\n",
    "        \n",
    "        \n",
    "        self.h_w = np.zeros((C_out,C_in,F_w)) + 1e-8\n",
    "        self.h_b = np.zeros((1,C_out)) + 1e-8\n",
    "    \n",
    "    #引数：入力データ\n",
    "    def _im2col(self,img):\n",
    "        #入力時系列データの形を取得\n",
    "        self.B, self.C_in, self.X_in = img.shape\n",
    "\n",
    "        col = np.zeros((self.B,self.params[\"C_in\"],self.params[\"F_w\"],self.y_w))    #(B,C_in,F_w,X_out)\n",
    "\n",
    "        for w in range(self.params[\"F_w\"]):\n",
    "            col[:,:,w,:] = img[:,:,w:w+self.y_w]\n",
    "\n",
    "        col = col.transpose(1,2,0,3).reshape(self.params[\"C_in\"]*self.params[\"F_w\"],self.B*self.y_w)    #(C_in,F_w,B,X_out)→(C_in*F_w,B*X_out)\n",
    "\n",
    "        return col\n",
    "    \n",
    "    \n",
    "    def _col2im(self,col):\n",
    "        \n",
    "        col = a#処理\n",
    "        \n",
    "        \n",
    "        return img\n",
    "\n",
    "    \n",
    "    \n",
    "    def forward(self,X):\n",
    "        \n",
    "        self.X_col = self._im2col(X)\n",
    "        self.w_col = self.W.reshape(self.params[\"C_out\"], self.params[\"C_in\"]*self.params[\"F_w\"])\n",
    "        u = np.dot(w_col, X_col).T + self.b\n",
    "        self.u = u.reshape(self.B, self.y_w, self.y_ch).transpose(0, 2, 1)\n",
    "        #ReLU\n",
    "        #後で活性化関数を任意に決定できるように実装する\n",
    "        Y = np.maximum(0, u)\n",
    "        \n",
    "        return Y\n",
    "    \n",
    "    \n",
    "    \n",
    "    def backward(self,dy):\n",
    "        \n",
    "        delta = dy*np.maximum(0,self.u)\n",
    "        delta = delta.transpose(0,2,1).reshape(self.B*self.y_w,self.params[\"C_out\"])\n",
    "        \n",
    "        dw = np.dot(self.X_col,delta)\n",
    "        self.dw = dw.T.reshape(self.params[\"C_out\"],self.params[\"C_in\"],self.params[\"F_w\"])\n",
    "        self.db = np.sum(selta,axis=0)\n",
    "        \n",
    "        dcol = np.dot(delta,self.w_col)\n",
    "        self.dX = self._col2im(dcol.T)\n",
    "        \n",
    "        return self.dX\n",
    "        \n",
    "    def fit(self,eta):##adaGrad→変更できるように\n",
    "        self.h_w += self.dw**2\n",
    "        self.w -= eta/np.sqrt(self.h_w)*self.grad_w\n",
    "        \n",
    "        self.h_b += self.db**2\n",
    "        self.b -= eta/np.sqrt(self.h_b)*self.grad_b"
   ]
  },
  {
   "cell_type": "markdown",
   "metadata": {},
   "source": [
    "# クラス化"
   ]
  },
  {
   "cell_type": "code",
   "execution_count": null,
   "metadata": {},
   "outputs": [],
   "source": []
  },
  {
   "cell_type": "markdown",
   "metadata": {},
   "source": [
    "# アーキテクチャ構築"
   ]
  },
  {
   "cell_type": "code",
   "execution_count": 122,
   "metadata": {},
   "outputs": [
    {
     "data": {
      "text/plain": [
       "array([[[0.        , 0.        , 0.        , 0.        ],\n",
       "        [0.08286357, 0.        , 0.        , 0.        ],\n",
       "        [0.28734516, 0.3363552 , 0.        , 0.        ],\n",
       "        [0.        , 0.        , 0.        , 0.        ]],\n",
       "\n",
       "       [[0.        , 0.        , 0.        , 0.        ],\n",
       "        [0.        , 0.06212582, 0.        , 0.        ],\n",
       "        [0.98402697, 0.32046315, 0.32617135, 0.28056356],\n",
       "        [0.0454527 , 0.        , 0.        , 0.        ]],\n",
       "\n",
       "       [[0.        , 0.        , 0.        , 0.04952165],\n",
       "        [0.        , 0.        , 0.        , 0.        ],\n",
       "        [0.74894583, 0.18278601, 0.        , 0.17841878],\n",
       "        [0.        , 0.07827255, 0.        , 0.        ]],\n",
       "\n",
       "       [[0.        , 0.        , 0.        , 0.        ],\n",
       "        [0.        , 0.        , 0.        , 0.        ],\n",
       "        [0.6277939 , 0.64041309, 0.72213454, 0.77845986],\n",
       "        [0.        , 0.        , 0.        , 0.        ]]])"
      ]
     },
     "execution_count": 122,
     "metadata": {},
     "output_type": "execute_result"
    }
   ],
   "source": [
    "X = np.random.rand(4,2,6)    #X(B,C_in,X_in)\n",
    "\n",
    "conv1 = convlayer1D(2,6,4)  #C_in,X_in,C_out,F_w=3,stride=1,pad=0\n",
    "conv1.forward(X)"
   ]
  },
  {
   "cell_type": "code",
   "execution_count": null,
   "metadata": {},
   "outputs": [],
   "source": []
  },
  {
   "cell_type": "code",
   "execution_count": null,
   "metadata": {},
   "outputs": [],
   "source": []
  },
  {
   "cell_type": "code",
   "execution_count": null,
   "metadata": {},
   "outputs": [],
   "source": []
  },
  {
   "cell_type": "code",
   "execution_count": null,
   "metadata": {},
   "outputs": [],
   "source": []
  },
  {
   "cell_type": "code",
   "execution_count": null,
   "metadata": {},
   "outputs": [],
   "source": [
    "\n"
   ]
  },
  {
   "cell_type": "code",
   "execution_count": 93,
   "metadata": {},
   "outputs": [
    {
     "data": {
      "text/plain": [
       "array([[ 0,  1,  2,  3,  4,  5,  6,  7,  8],\n",
       "       [ 9, 10, 11, 12, 13, 14, 15, 16, 17]])"
      ]
     },
     "execution_count": 93,
     "metadata": {},
     "output_type": "execute_result"
    }
   ],
   "source": []
  },
  {
   "cell_type": "code",
   "execution_count": 94,
   "metadata": {},
   "outputs": [
    {
     "ename": "NameError",
     "evalue": "name 'col' is not defined",
     "output_type": "error",
     "traceback": [
      "\u001b[1;31m---------------------------------------------------------------------------\u001b[0m",
      "\u001b[1;31mNameError\u001b[0m                                 Traceback (most recent call last)",
      "\u001b[1;32m<ipython-input-94-22b43d5541ba>\u001b[0m in \u001b[0;36m<module>\u001b[1;34m\u001b[0m\n\u001b[0;32m      1\u001b[0m \u001b[0mw_col\u001b[0m \u001b[1;33m=\u001b[0m \u001b[0mW\u001b[0m\u001b[1;33m.\u001b[0m\u001b[0mreshape\u001b[0m\u001b[1;33m(\u001b[0m\u001b[1;36m2\u001b[0m\u001b[1;33m,\u001b[0m\u001b[1;36m9\u001b[0m\u001b[1;33m)\u001b[0m\u001b[1;33m\u001b[0m\u001b[1;33m\u001b[0m\u001b[0m\n\u001b[1;32m----> 2\u001b[1;33m \u001b[0mnp\u001b[0m\u001b[1;33m.\u001b[0m\u001b[0mdot\u001b[0m\u001b[1;33m(\u001b[0m\u001b[0mw_col\u001b[0m\u001b[1;33m,\u001b[0m\u001b[0mcol\u001b[0m\u001b[1;33m)\u001b[0m\u001b[1;33m.\u001b[0m\u001b[0mT\u001b[0m\u001b[1;33m.\u001b[0m\u001b[0mreshape\u001b[0m\u001b[1;33m(\u001b[0m\u001b[1;36m2\u001b[0m\u001b[1;33m,\u001b[0m\u001b[1;36m2\u001b[0m\u001b[1;33m,\u001b[0m\u001b[1;36m2\u001b[0m\u001b[1;33m)\u001b[0m\u001b[1;33m.\u001b[0m\u001b[0mtranspose\u001b[0m\u001b[1;33m(\u001b[0m\u001b[1;36m0\u001b[0m\u001b[1;33m,\u001b[0m\u001b[1;36m2\u001b[0m\u001b[1;33m,\u001b[0m\u001b[1;36m1\u001b[0m\u001b[1;33m)\u001b[0m\u001b[1;33m\u001b[0m\u001b[1;33m\u001b[0m\u001b[0m\n\u001b[0m",
      "\u001b[1;31mNameError\u001b[0m: name 'col' is not defined"
     ]
    }
   ],
   "source": []
  },
  {
   "cell_type": "code",
   "execution_count": null,
   "metadata": {},
   "outputs": [],
   "source": []
  },
  {
   "cell_type": "code",
   "execution_count": null,
   "metadata": {},
   "outputs": [],
   "source": []
  }
 ],
 "metadata": {
  "kernelspec": {
   "display_name": "Python 3",
   "language": "python",
   "name": "python3"
  },
  "language_info": {
   "codemirror_mode": {
    "name": "ipython",
    "version": 3
   },
   "file_extension": ".py",
   "mimetype": "text/x-python",
   "name": "python",
   "nbconvert_exporter": "python",
   "pygments_lexer": "ipython3",
   "version": "3.7.1"
  }
 },
 "nbformat": 4,
 "nbformat_minor": 4
}
