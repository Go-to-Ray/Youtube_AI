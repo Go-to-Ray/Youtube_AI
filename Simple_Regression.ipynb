{
 "cells": [
  {
   "cell_type": "code",
   "execution_count": 1,
   "metadata": {},
   "outputs": [],
   "source": [
    "import numpy as np\n",
    "import matplotlib.pyplot as plt"
   ]
  },
  {
   "cell_type": "code",
   "execution_count": 7,
   "metadata": {},
   "outputs": [],
   "source": [
    "x = np.array([15,115,180,255])\n",
    "X = np.array([np.ones(4),x,x**2,x**3]).T\n",
    "y = np.array([[0.15,1.55,3.00,4.15]]).T"
   ]
  },
  {
   "cell_type": "code",
   "execution_count": 8,
   "metadata": {},
   "outputs": [
    {
     "data": {
      "text/plain": [
       "array([[ 0.20860623],\n",
       "       [-0.11853926],\n",
       "       [ 0.08568343],\n",
       "       [-0.01930639]])"
      ]
     },
     "execution_count": 8,
     "metadata": {},
     "output_type": "execute_result"
    }
   ],
   "source": [
    "w = np.dot(np.linalg.inv(np.dot(X,X.T)),y)\n",
    "w"
   ]
  },
  {
   "cell_type": "code",
   "execution_count": 11,
   "metadata": {},
   "outputs": [
    {
     "data": {
      "text/plain": [
       "array([[1.00000000e+00, 0.00000000e+00, 0.00000000e+00, 0.00000000e+00],\n",
       "       [1.00000000e+00, 2.60260260e-01, 6.77354031e-02, 1.76288336e-02],\n",
       "       [1.00000000e+00, 5.20520521e-01, 2.70941612e-01, 1.41030669e-01],\n",
       "       ...,\n",
       "       [1.00000000e+00, 2.59479479e+02, 6.73296003e+04, 1.74706496e+07],\n",
       "       [1.00000000e+00, 2.59739740e+02, 6.74647324e+04, 1.75232720e+07],\n",
       "       [1.00000000e+00, 2.60000000e+02, 6.76000000e+04, 1.75760000e+07]])"
      ]
     },
     "execution_count": 11,
     "metadata": {},
     "output_type": "execute_result"
    }
   ],
   "source": [
    "x_range = np.linspace(0,260,1000)\n",
    "X_range = np.array([np.ones(1000),x_range,x_range**2,x_range**3]).T\n",
    "y_pred = 0\n",
    "X_range"
   ]
  }
 ],
 "metadata": {
  "kernelspec": {
   "display_name": "Python 3",
   "language": "python",
   "name": "python3"
  },
  "language_info": {
   "codemirror_mode": {
    "name": "ipython",
    "version": 3
   },
   "file_extension": ".py",
   "mimetype": "text/x-python",
   "name": "python",
   "nbconvert_exporter": "python",
   "pygments_lexer": "ipython3",
   "version": "3.7.1"
  }
 },
 "nbformat": 4,
 "nbformat_minor": 4
}
