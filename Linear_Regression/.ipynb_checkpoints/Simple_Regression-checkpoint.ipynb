{
 "cells": [
  {
   "cell_type": "markdown",
   "metadata": {},
   "source": [
    "# 線形回帰の基礎"
   ]
  },
  {
   "cell_type": "markdown",
   "metadata": {},
   "source": [
    "機械学習や統計学の基礎となる線形回帰のフルスクラッチをしていきましょう。  \n",
    "複数の特徴量を持ったデータの回帰をいきなり考えるのはとても難しいので、まずは特徴量を一つとして考えてみます。こういうものを特に「単回帰」といいます。\n",
    "仮定関数を $ \\hat{y} = ax + b $ として、予測した値$\\hat{y}$と実測値(教師データ)の二乗距離の和を最小にするアルゴリズムが最小二乗法です。  \n",
    "まず簡単にサンプル$i$における二乗距離(L2ノルム)の二乗を求めてみると、\n",
    "\n",
    "\\begin{align}\n",
    "  J_i &= (y_i - \\hat{y}_i)^2  \\\\\n",
    "      &= (y_i - (ax_i + b))^2  \\\\\n",
    "      &= y_i^2 - 2y_i(ax_i + b) + (ax_i + b)^2  \\\\\n",
    "    J &= \\sum_{i=1}^{n} J_i  \\\\\n",
    "      &= \\sum_{i=1}^{n} \\bigr({y_i^2 - 2y_i(ax_i + b) + (ax_i + b)^2}\\bigl)  \\\\\n",
    "      & \\propto \\frac{1}{2n} \\sum_{i=1}^{n} \\bigr({y_i^2 - 2y_i(ax_i + b) + (ax_i + b)^2}\\bigl)\n",
    "\\end{align}\n",
    "\n",
    "これが目的関数(損失関数)です。  \n",
    "サンプル数で割るのは、これを微分したものでパラメータを最適化するので、その更新幅がサンプル数に依存しないようにするためです。評価はサンプル数に依らないはず。という気持ちもあります。2で割っているのは微分したときに綺麗な形になるからです。  \n",
    "\n",
    "最急降下法は以下のように最適化したいパラメータについて微分し勾配を求め、学習率をかけて古いパラメータを更新していくものです。  \n",
    "\n",
    "\\begin{align}\n",
    "  \\theta_{i}^{k+1} &= \\theta_{i}^{k} - \\alpha \\nabla J \\\\\n",
    "                   &= \\theta_{i}^{k} - \\alpha \\frac{\\partial J}{\\partial \\theta_i}\n",
    "\\end{align}\n",
    "\n",
    "それぞれのパラメータでの微分は以下のようになります。\n",
    "\n",
    "\\begin{align}\n",
    "  \\frac{\\partial J}{\\partial a} &= -\\sum_{i=1}^{n} y_i x_i + \\sum_{i=1}^{n} (a x_i + b)x_i  \\\\\n",
    "  \\frac{\\partial J}{\\partial b} &= -\\sum_{i=1}^{n} y_i     + \\sum_{i=1}^{n} (a x_i + b)\n",
    "\\end{align}\n",
    "\n",
    "これを最急降下法に適用すると更新式ができます。\n",
    "\n",
    "もちろんこのまま計算してもいいですが、切片と係数では微妙に形が違いますね。これを解決するために、切片も係数と考え、この係数に対しては常に値1が与えられると考えることで統一的に処理できます。\n",
    "\n",
    "最終的に得られる更新式は\n",
    "\\begin{align}\n",
    "  a_{new} &= a_{old} - \\alpha \\Bigr( - \\sum_{i=1}^{n} y_i x_i + \\sum_{i=1}^{n} (a x_i + b)x_i \\Bigl)  \\\\\n",
    "  b_{new} &= b_{old} - \\alpha \\Bigr( - \\sum_{i=1}^{n} y_i \\times 1 + \\sum_{i=1}^{n} (a x_i + b) \\times 1 \\Bigl)\n",
    "\\end{align}\n",
    "\n",
    "\n",
    "まずはこの資料を参考に線形回帰の基礎を理解していきましょう。"
   ]
  },
  {
   "cell_type": "markdown",
   "metadata": {},
   "source": [
    "# 線形回帰スクラッチ\n",
    "\n",
    "基本は以下のようにして動くクラスになるように設計しましょう。\n",
    "```python\n",
    "model_OLS = ScratchLinearRegression(num_iter=10,lr=0.01,,no_bias=True,verbose=True)\n",
    "model_OLS.fit(X,y,X_val,y_val)\n",
    "y_predict = model_OLS.predict(X_test)\n",
    "```"
   ]
  },
  {
   "cell_type": "code",
   "execution_count": 1,
   "metadata": {},
   "outputs": [],
   "source": [
    "import numpy as np\n",
    "import matplotlib.pyplot as plt"
   ]
  },
  {
   "cell_type": "code",
   "execution_count": 5,
   "metadata": {},
   "outputs": [],
   "source": [
    "#線形回帰のフルスクラッチ\n",
    "class ScratchLinearRegression():\n",
    "    def __init__(self, num_iter, lr, no_bias, verbose):\n",
    "        # ハイパーパラメータを属性として記録\n",
    "        self.iter = num_iter\n",
    "        self.lr = lr\n",
    "        self.no_bias = no_bias\n",
    "        self.verbose = verbose\n",
    "        # 損失を記録する配列を用意\n",
    "        self.loss = np.zeros(self.iter)\n",
    "        self.val_loss = np.zeros(self.iter)\n",
    "    \n",
    "    def fit(self, X, y, X_val=None, y_val=None):\n",
    "        \"\"\"\n",
    "        線形回帰を学習する。検証データが入力された場合はそれに対する損失と精度もイテレーションごとに計算する。\n",
    "        Parameters\n",
    "        ----------\n",
    "        X : 次の形のndarray, shape (n_samples, n_features)\n",
    "            訓練データの特徴量\n",
    "        y : 次の形のndarray, shape (n_samples, )\n",
    "            訓練データの正解値\n",
    "        X_val : 次の形のndarray, shape (n_samples, n_features)\n",
    "            検証データの特徴量\n",
    "        y_val : 次の形のndarray, shape (n_samples, )\n",
    "            検証データの正解値\n",
    "        \"\"\"\n",
    "        if self.verbose:\n",
    "            #verboseをTrueにした際は学習過程を出力\n",
    "            print()\n",
    "    \n",
    "    def fit(self, X, y, X_val=None, y_val=None):\n",
    "        \"\"\"\n",
    "        線形回帰を学習する。検証データが入力された場合はそれに対する損失と精度もイテレーションごとに計算する。\n",
    "        Parameters\n",
    "        ----------\n",
    "        X : 次の形のndarray, shape (n_samples, n_features)\n",
    "            訓練データの特徴量\n",
    "        y : 次の形のndarray, shape (n_samples, )\n",
    "            訓練データの正解値\n",
    "        X_val : 次の形のndarray, shape (n_samples, n_features)\n",
    "            検証データの特徴量\n",
    "        y_val : 次の形のndarray, shape (n_samples, )\n",
    "            検証データの正解値\n",
    "        \"\"\"\n",
    "        if self.verbose:\n",
    "            #verboseをTrueにした際は学習過程を出力\n",
    "            print()"
   ]
  },
  {
   "cell_type": "markdown",
   "metadata": {},
   "source": [
    "## 【問題1】仮定関数\n",
    "上記までの内容は特徴量が一つだけの場合のものです。\n",
    "複数の特徴量に対しても適応させるために仮定関数を以下のように設定します。\n",
    "\\begin{align}\n",
    "  h_\\theta(x) = \\theta_0 x_0 + \\theta_1 x_1 + ... + \\theta_j x_j + ... + \\theta_n x_n\n",
    "\\end{align}\n",
    "\n",
    "係数$\\theta$の数は、入力されたデータの特徴量によって決められるはずなので、この関数ではなく、fitメソッド内でインスタンス変数を初期化して、_linear_hypothesis()でも使えるようにしましょう。"
   ]
  },
  {
   "cell_type": "code",
   "execution_count": null,
   "metadata": {},
   "outputs": [],
   "source": [
    "def _linear_hypothesis(self, X):\n",
    "    \"\"\"\n",
    "    線形の仮定関数を計算する\n",
    "\n",
    "    Parameters\n",
    "    ----------\n",
    "    X : 次の形のndarray, shape (n_samples, n_features)\n",
    "      訓練データ\n",
    "\n",
    "    Returns\n",
    "    -------\n",
    "      次の形のndarray, shape (n_samples, 1)\n",
    "      線形の仮定関数による推定結果\n",
    "\n",
    "    \"\"\"\n",
    "    return"
   ]
  },
  {
   "cell_type": "markdown",
   "metadata": {},
   "source": [
    "## 【問題2】最急降下法\n",
    "最急降下法を実装してください。"
   ]
  },
  {
   "cell_type": "code",
   "execution_count": null,
   "metadata": {},
   "outputs": [],
   "source": [
    "def _gradient_descent(self, X, error):\n",
    "    \"\"\"\n",
    "    説明を記述\n",
    "    \"\"\"\n",
    "    pass"
   ]
  },
  {
   "cell_type": "markdown",
   "metadata": {},
   "source": [
    "## 【問題3】推定\n",
    "推定する仕組みを作りましょう。"
   ]
  },
  {
   "cell_type": "code",
   "execution_count": null,
   "metadata": {},
   "outputs": [],
   "source": []
  },
  {
   "cell_type": "markdown",
   "metadata": {},
   "source": [
    "## 【問題4】平均二乗誤差\n",
    "線形回帰の指標値としてもちいられる平均二乗誤差(Mean Squared Error)を計算する関数を作成してください。  \n",
    "コメントアウト部分の説明も記述してください。"
   ]
  },
  {
   "cell_type": "code",
   "execution_count": 3,
   "metadata": {},
   "outputs": [],
   "source": [
    "def MSE(y_pred, y):\n",
    "    \"\"\"\n",
    "    平均二乗誤差の計算\n",
    "\n",
    "    Parameters\n",
    "    ----------\n",
    "    y_pred : 次の形のndarray, shape (n_samples,)\n",
    "      推定した値\n",
    "    y : 次の形のndarray, shape (n_samples,)\n",
    "      正解値\n",
    "\n",
    "    Returns\n",
    "    ----------\n",
    "    mse : numpy.float\n",
    "      平均二乗誤差\n",
    "    \"\"\"\n",
    "    return mse"
   ]
  },
  {
   "cell_type": "markdown",
   "metadata": {},
   "source": [
    "## 【問題5】目的関数\n",
    "学習データの loss を self.loss に、検証データの loss を self.val_loss に保存しましょう。徐々に小さくなっていくので、学習過程を見ることができます。"
   ]
  },
  {
   "cell_type": "code",
   "execution_count": null,
   "metadata": {},
   "outputs": [],
   "source": []
  },
  {
   "cell_type": "markdown",
   "metadata": {},
   "source": [
    "## 【問題6】学習と推定\n",
    "ここまでの実装を組みあわせてHouse Pricesコンペティションのデータに対してスクラッチ実装の学習と推定を行なってください。  \n",
    "scikit-learnによる実装と比べ、正しく動いているかを確認してください。"
   ]
  },
  {
   "cell_type": "code",
   "execution_count": null,
   "metadata": {},
   "outputs": [],
   "source": []
  },
  {
   "cell_type": "markdown",
   "metadata": {},
   "source": [
    "## 【問題7】学習曲線のプロット\n",
    "問題5で self.loss と self.val_lossを記録しているはずなので、これを利用して学習曲線をプロットしましょう。\n"
   ]
  },
  {
   "cell_type": "code",
   "execution_count": null,
   "metadata": {},
   "outputs": [],
   "source": []
  },
  {
   "cell_type": "markdown",
   "metadata": {},
   "source": [
    "## 【問題8】（アドバンス課題）バイアス項の除去"
   ]
  },
  {
   "cell_type": "code",
   "execution_count": null,
   "metadata": {},
   "outputs": [],
   "source": []
  },
  {
   "cell_type": "markdown",
   "metadata": {},
   "source": [
    "## 【問題9】（アドバンス課題）特徴量の多次元化\n",
    "多項式回帰といわれるものです。"
   ]
  },
  {
   "cell_type": "code",
   "execution_count": null,
   "metadata": {},
   "outputs": [],
   "source": []
  },
  {
   "cell_type": "markdown",
   "metadata": {},
   "source": [
    "## 【問題10】（アドバンス課題）更新式の導出"
   ]
  },
  {
   "cell_type": "code",
   "execution_count": null,
   "metadata": {},
   "outputs": [],
   "source": []
  },
  {
   "cell_type": "markdown",
   "metadata": {},
   "source": [
    "## 【問題11】（アドバンス課題）局所最適解の問題"
   ]
  },
  {
   "cell_type": "code",
   "execution_count": null,
   "metadata": {},
   "outputs": [],
   "source": []
  },
  {
   "cell_type": "markdown",
   "metadata": {},
   "source": [
    "### 【補題１】行列計算による高速化\n",
    "もしかすると上記までの実装の中でしているかもしれませんが、更新式の部分を行列計算に直して高速化することができます。\n",
    "更新式は以下のように定義されていました。\n",
    "\\begin{align}\n",
    "  \\theta_{i}^{k+1} &= \\theta_{i}^{k} - \\alpha \\nabla J \\\\\n",
    "                   &= \\theta_{i}^{k} - \\alpha \\frac{\\partial J}{\\partial \\theta_i}\n",
    "\\end{align}\n",
    "特徴量一つ一つに対して計算していますが、numpyでは行列積やブロードキャストの機能があるので、これを行列の計算に直して、更新を一括で行えます。"
   ]
  },
  {
   "cell_type": "code",
   "execution_count": null,
   "metadata": {},
   "outputs": [],
   "source": []
  },
  {
   "cell_type": "markdown",
   "metadata": {},
   "source": [
    "### 【補題２】解析解\n",
    "サンプル数が十分に存在しており、次元がサンプル数よりも少ないとき(d<<n)多くの場合で線形回帰には解析解が存在します。線形回帰のパラメータ最適化は線型方程式(AX=Y)の解を求めることにほかなりません。現実に機械学習の分野で逐次更新以外の手法をとることはほぼありませんが、線形代数など解析的な数学の知識に興味ある方は取り組んでみましょう。\n",
    "逆行列という概念が必要になりますが、計算自体はnumpyに任せられます。\n"
   ]
  },
  {
   "cell_type": "markdown",
   "metadata": {},
   "source": [
    "\\begin{align}\n",
    "    \\hat{y} = \n",
    "        \\begin{bmatrix}\n",
    "            \\hat{y_1} \\\\\n",
    "            \\hat{y_2} \\\\\n",
    "            \\vdots \\\\\n",
    "            \\hat{y_n}\n",
    "        \\end{bmatrix},\n",
    "    W &= \n",
    "        \\begin{bmatrix}\n",
    "            w_0 \\\\\n",
    "            w_1 \\\\\n",
    "            w_2 \\\\\n",
    "            \\vdots \\\\\n",
    "            w_d\n",
    "        \\end{bmatrix},\n",
    "    X = \n",
    "        \\begin{bmatrix}\n",
    "            x_{01} && x_{11} && \\cdots && x_{d1} \\\\\n",
    "            x_{02} && x_{12} && \\cdots && x_{d2} \\\\\n",
    "            \\vdots && \\vdots && \\ddots && \\vdots \\\\\n",
    "            x_{0n} && x_{1n} && \\cdots && x_{dn}\n",
    "        \\end{bmatrix} \\\\\n",
    "\\end{align}\n",
    "\n",
    "得られた行列が以上のような形の場合、\n",
    "\n",
    "\n",
    "\\begin{align}\n",
    "  W = (X^TX)^{-1}X^Ty\n",
    "\\end{align}\n",
    "\n",
    "という式が得られます。基本はこれまでと変わりませんが、導出には行列の微分など、少しだけ難しい内容も出てきます。余裕がある場合は導出も追ってみてください。参考にする資料によっては、縦ベクトル・横ベクトルの設定に違いがあるので注意してください。  \n",
    "行列の逆数は逆行列と呼ばれ、numpy.linalg.inv()で求めることができます。"
   ]
  }
 ],
 "metadata": {
  "kernelspec": {
   "display_name": "Python 3",
   "language": "python",
   "name": "python3"
  },
  "language_info": {
   "codemirror_mode": {
    "name": "ipython",
    "version": 3
   },
   "file_extension": ".py",
   "mimetype": "text/x-python",
   "name": "python",
   "nbconvert_exporter": "python",
   "pygments_lexer": "ipython3",
   "version": "3.8.3"
  }
 },
 "nbformat": 4,
 "nbformat_minor": 4
}
