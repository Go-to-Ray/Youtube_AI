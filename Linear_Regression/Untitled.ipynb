{
 "cells": [
  {
   "cell_type": "markdown",
   "metadata": {},
   "source": [
    "\n",
    "\n",
    "機械学習や統計学の基礎となる線形回帰のフルスクラッチをしていきましょう。  \n",
    "複数の特徴量を持ったデータの回帰をいきなり考えるのはとても難しいので、まずは特徴量を一つとして考えてみます。こういうものを特に「単回帰」といいます。\n",
    "仮定関数を $ \\hat{y} = ax + b $ として、予測した値$\\hat{y}$と実測値(教師データ)の二乗距離の和を最小にするアルゴリズムが最小二乗法です。  \n",
    "まず簡単にサンプル$i$における二乗距離(L2ノルム)の二乗を求めてみると、\n",
    "\n",
    "\\begin{align}\n",
    "  J_i &= (y_i - \\hat{y}_i)^2  \\\\\n",
    "      &= (y_i - (ax_i + b))^2  \\\\\n",
    "      &= y_i^2 - 2y_i(ax_i + b) + (ax_i + b)^2  \\\\\n",
    "    J &= \\sum_{i=1}^{n} J_i  \\\\\n",
    "      &= \\sum_{i=1}^{n} \\bigr({y_i^2 - 2y_i(ax_i + b) + (ax_i + b)^2}\\bigl)  \\\\\n",
    "      & \\propto \\frac{1}{2n} \\sum_{i=1}^{n} \\bigr({y_i^2 - 2y_i(ax_i + b) + (ax_i + b)^2}\\bigl)\n",
    "\\end{align}\n",
    "\n",
    "これが目的関数(損失関数)です。  \n",
    "サンプル数で割るのは、これを微分したものでパラメータを最適化するので、その更新幅がサンプル数に依存しないようにするためです。評価はサンプル数に依らないはず。という気持ちもあります。2で割っているのは微分したときに綺麗な形になるからです。  \n",
    "\n",
    "最急降下法は以下のように最適化したいパラメータについて微分し勾配を求め、学習率をかけて古いパラメータを更新していくものです。  \n",
    "\n",
    "\\begin{align}\n",
    "  \\theta_{i}^{k+1} &= \\theta_{i}^{k} - \\alpha \\nabla J \\\\\n",
    "                   &= \\theta_{i}^{k} - \\alpha \\frac{\\partial J}{\\partial \\theta_i}\n",
    "\\end{align}\n",
    "\n",
    "それぞれのパラメータでの微分は以下のようになります。\n",
    "\n",
    "\\begin{align}\n",
    "  \\frac{\\partial J}{\\partial a} &= -\\sum_{i=1}^{n} y_i x_i + \\sum_{i=1}^{n} (a x_i + b)x_i  \\\\\n",
    "  \\frac{\\partial J}{\\partial b} &= -\\sum_{i=1}^{n} y_i     + \\sum_{i=1}^{n} (a x_i + b)\n",
    "\\end{align}\n",
    "\n",
    "これを最急降下法に適用すると更新式ができます。\n",
    "\n",
    "もちろんこのまま計算してもいいですが、切片と係数では微妙に形が違いますね。これを解決するために、切片も係数と考え、この係数に対しては常に値1が与えられると考えることで統一的に処理できます。\n",
    "\n",
    "最終的に得られる更新式は\n",
    "\\begin{align}\n",
    "  a_{new} &= a_{old} - \\alpha \\Bigr( - \\sum_{i=1}^{n} y_i x_i + \\sum_{i=1}^{n} (a x_i + b)x_i \\Bigl)  \\\\\n",
    "  b_{new} &= b_{old} - \\alpha \\Bigr( - \\sum_{i=1}^{n} y_i \\times 1 + \\sum_{i=1}^{n} (a x_i + b) \\times 1 \\Bigl)\n",
    "\\end{align}\n",
    "\n",
    "\n",
    "まずはこの資料を参考に線形回帰の基礎を理解していきましょう。"
   ]
  }
 ],
 "metadata": {
  "kernelspec": {
   "display_name": "Python 3",
   "language": "python",
   "name": "python3"
  },
  "language_info": {
   "codemirror_mode": {
    "name": "ipython",
    "version": 3
   },
   "file_extension": ".py",
   "mimetype": "text/x-python",
   "name": "python",
   "nbconvert_exporter": "python",
   "pygments_lexer": "ipython3",
   "version": "3.8.3"
  }
 },
 "nbformat": 4,
 "nbformat_minor": 4
}
