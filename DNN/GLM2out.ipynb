{
 "cells": [
  {
   "cell_type": "markdown",
   "metadata": {},
   "source": [
    "# GLMを通してNNを理解する\n",
    "\n",
    "一般にNeural Network Model(以下NN)はGeneralized Linear Model(以下GLM)の文脈で学ばれます。GLMの多出力・多層モデルがNNと同値関係あるからです。\n",
    "\n",
    "まずは重回帰の線形回帰モデルをバッチ学習ができるように組んでみましょう。"
   ]
  },
  {
   "cell_type": "markdown",
   "metadata": {},
   "source": [
    "### 重回帰\n",
    "\n",
    "\\begin{align}\n",
    "    仮定関数：\\hat{y} &= XW  \\\\\n",
    "    \\\\\n",
    "    \\hat{y} = \n",
    "        \\begin{bmatrix}\n",
    "            \\hat{y_1} \\\\\n",
    "            \\hat{y_2} \\\\\n",
    "            \\vdots \\\\\n",
    "            \\hat{y_n}\n",
    "        \\end{bmatrix},\n",
    "    W &= \n",
    "        \\begin{bmatrix}\n",
    "            w_0 \\\\\n",
    "            w_1 \\\\\n",
    "            w_2 \\\\\n",
    "            \\vdots \\\\\n",
    "            w_d\n",
    "        \\end{bmatrix},\n",
    "    X = \n",
    "        \\begin{bmatrix}\n",
    "            x_{01} && x_{11} && \\cdots && x_{d1} \\\\\n",
    "            x_{02} && x_{12} && \\cdots && x_{d2} \\\\\n",
    "            \\vdots && \\vdots && \\ddots && \\vdots \\\\\n",
    "            x_{0n} && x_{1n} && \\cdots && x_{dn}\n",
    "        \\end{bmatrix} \\\\\n",
    "        \\\\\n",
    "    評価関数:J&=\\frac{1}{2}||y-\\hat{y}||^2 \\\\\n",
    "    \\frac{\\partial J}{\\partial w} &= -X^T(y-\\hat{y})\n",
    "    \\\\\n",
    "    w_{new} &= w_{old} - \\alpha \\frac{\\partial J}{\\partial w}  \\\\\n",
    "            &= w_{old} + \\alpha X^T(y-\\hat{y})\n",
    "\\end{align}"
   ]
  },
  {
   "cell_type": "code",
   "execution_count": 243,
   "metadata": {},
   "outputs": [],
   "source": [
    "import numpy as np\n",
    "import matplotlib.pyplot as plt\n",
    "%matplotlib inline"
   ]
  },
  {
   "cell_type": "code",
   "execution_count": 244,
   "metadata": {},
   "outputs": [],
   "source": [
    "class LinearRegression:\n",
    "    def __init__(self):\n",
    "        pass\n",
    "    \n",
    "    def optimize(self,X,y,ba):\n",
    "        self.w += self.lr * np.dot(X.T,(y-np.dot(X,self.w)-self.b))/self.batch_size\n",
    "        self.b_[ba] = np.mean(y-np.dot(X,self.w))\n",
    "    \n",
    "    def fit(self, X, y, lr=0.01, epoch=100, batch_size=10):\n",
    "        self.lr = lr\n",
    "        self.w = np.zeros((X.shape[1],1))\n",
    "        self.b = 0\n",
    "        self.batch_size = batch_size\n",
    "        n_sample = len(y)\n",
    "        y = y.reshape(n_sample,1)\n",
    "        \n",
    "        for i in range(epoch):\n",
    "            self.b_ = np.zeros(batch_size)\n",
    "            for j in range(int(n_sample/batch_size)):\n",
    "                X_mini, y_mini = X[j*batch_size:(j+1)*batch_size,:], y[j*batch_size:(j+1)*batch_size]\n",
    "                #print(X_mini.shape)\n",
    "                self.optimize(X_mini,y_mini,j)\n",
    "            self.b = np.mean(self.b_)\n",
    "            #print(self.b)\n",
    "    def predict(self,X):\n",
    "        #print(self.w.shape)\n",
    "        y = np.dot(X,self.w)+self.b\n",
    "        return y"
   ]
  },
  {
   "cell_type": "markdown",
   "metadata": {},
   "source": [
    "### トイデータ作成"
   ]
  },
  {
   "cell_type": "code",
   "execution_count": 245,
   "metadata": {},
   "outputs": [
    {
     "name": "stdout",
     "output_type": "stream",
     "text": [
      "(100, 2)\n",
      "(100, 1)\n"
     ]
    }
   ],
   "source": [
    "X = np.array([[2,2]]) + np.random.randn(100,2)/2\n",
    "y = (np.dot(X,np.array([[1],[-1]]))) + 10 + np.random.randn(100,1)/2\n",
    "print(X.shape)\n",
    "print(y.shape)"
   ]
  },
  {
   "cell_type": "code",
   "execution_count": 250,
   "metadata": {},
   "outputs": [
    {
     "name": "stdout",
     "output_type": "stream",
     "text": [
      "[[ 0.96593798]\n",
      " [-1.09917954]] 10.235210265472412\n"
     ]
    }
   ],
   "source": [
    "SGD = LinearRegression()\n",
    "SGD.fit(X,y.reshape(-1),epoch=1000)\n",
    "y_pred = SGD.predict(X)\n",
    "\n",
    "print(SGD.w,SGD.b)"
   ]
  },
  {
   "cell_type": "code",
   "execution_count": 247,
   "metadata": {},
   "outputs": [
    {
     "data": {
      "image/png": "[encoded data removed]",
      "text/plain": [
       "<Figure size 432x288 with 1 Axes>"
      ]
     },
     "metadata": {
      "needs_background": "light"
     },
     "output_type": "display_data"
    },
    {
     "data": {
      "image/png": "[encoded data removed]",
      "text/plain": [
       "<Figure size 432x288 with 1 Axes>"
      ]
     },
     "metadata": {
      "needs_background": "light"
     },
     "output_type": "display_data"
    },
    {
     "name": "stdout",
     "output_type": "stream",
     "text": [
      "[[ 1.27264412]\n",
      " [-0.24348432]] 7.892228508195686\n"
     ]
    }
   ],
   "source": [
    "plt.scatter(X[:,0],y_pred)\n",
    "plt.scatter(X[:,0],y)\n",
    "plt.show()\n",
    "plt.scatter(X[:,1],y_pred)\n",
    "plt.scatter(X[:,1],y)\n",
    "plt.show()\n",
    "print(SGD.w,SGD.b)"
   ]
  },
  {
   "cell_type": "code",
   "execution_count": null,
   "metadata": {},
   "outputs": [],
   "source": []
  },
  {
   "cell_type": "code",
   "execution_count": null,
   "metadata": {},
   "outputs": [],
   "source": []
  },
  {
   "cell_type": "code",
   "execution_count": null,
   "metadata": {},
   "outputs": [],
   "source": []
  },
  {
   "cell_type": "code",
   "execution_count": null,
   "metadata": {},
   "outputs": [],
   "source": []
  },
  {
   "cell_type": "code",
   "execution_count": 248,
   "metadata": {},
   "outputs": [
    {
     "data": {
      "text/plain": [
       "9"
      ]
     },
     "execution_count": 248,
     "metadata": {},
     "output_type": "execute_result"
    }
   ],
   "source": [
    "-1%10"
   ]
  },
  {
   "cell_type": "code",
   "execution_count": null,
   "metadata": {},
   "outputs": [],
   "source": []
  },
  {
   "cell_type": "code",
   "execution_count": null,
   "metadata": {},
   "outputs": [],
   "source": []
  },
  {
   "cell_type": "code",
   "execution_count": null,
   "metadata": {},
   "outputs": [],
   "source": []
  },
  {
   "cell_type": "code",
   "execution_count": null,
   "metadata": {},
   "outputs": [],
   "source": []
  },
  {
   "cell_type": "code",
   "execution_count": null,
   "metadata": {},
   "outputs": [],
   "source": []
  }
 ],
 "metadata": {
  "kernelspec": {
   "display_name": "Python 3",
   "language": "python",
   "name": "python3"
  },
  "language_info": {
   "codemirror_mode": {
    "name": "ipython",
    "version": 3
   },
   "file_extension": ".py",
   "mimetype": "text/x-python",
   "name": "python",
   "nbconvert_exporter": "python",
   "pygments_lexer": "ipython3",
   "version": "3.7.1"
  }
 },
 "nbformat": 4,
 "nbformat_minor": 4
}
