{
 "cells": [
  {
   "cell_type": "markdown",
   "metadata": {},
   "source": [
    "# GLMを通してNNを理解する\n",
    "\n",
    "一般にNeural Network Model(以下NN)はGeneralized Linear Model(以下GLM)の文脈で学ばれます。GLMの多出力・多層モデルがNNと同値関係あるからです。\n",
    "\n",
    "まずは重回帰の線形回帰モデルをバッチ学習ができるように組んでみましょう。"
   ]
  },
  {
   "cell_type": "markdown",
   "metadata": {},
   "source": [
    "### 重回帰\n",
    "\n",
    "\\begin{align}\n",
    "    仮定関数：\\hat{y} &= XW  \\\\\n",
    "    \\\\\n",
    "    \\hat{y} = \n",
    "        \\begin{bmatrix}\n",
    "            \\hat{y_1} \\\\\n",
    "            \\hat{y_2} \\\\\n",
    "            \\vdots \\\\\n",
    "            \\hat{y_n}\n",
    "        \\end{bmatrix},\n",
    "    W &= \n",
    "        \\begin{bmatrix}\n",
    "            w_1 \\\\\n",
    "            w_2 \\\\\n",
    "            \\vdots \\\\\n",
    "            w_d\n",
    "        \\end{bmatrix},\n",
    "    X = \n",
    "        \\begin{bmatrix}\n",
    "            x_{01} && x_{11} && \\cdots && x_{d1} \\\\\n",
    "            x_{02} && x_{12} && \\cdots && x_{d2} \\\\\n",
    "            \\vdots && \\vdots && \\ddots && \\vdots \\\\\n",
    "            x_{0n} && x_{1n} && \\cdots && x_{dn}\n",
    "        \\end{bmatrix} \\\\\n",
    "        \\\\\n",
    "    評価関数:J&=\\frac{1}{2}||y-\\hat{y}||^2 \\\\\n",
    "    \\frac{\\partial J}{\\partial w} &= -X^T(y-\\hat{y})\n",
    "    \\\\\n",
    "    w_{new} &= w_{old} - \\alpha \\frac{\\partial J}{\\partial w}  \\\\\n",
    "            &= w_{old} + \\alpha X^T(y-\\hat{y})\n",
    "\\end{align}"
   ]
  },
  {
   "cell_type": "code",
   "execution_count": 103,
   "metadata": {},
   "outputs": [],
   "source": [
    "import numpy as np\n",
    "import matplotlib.pyplot as plt\n",
    "%matplotlib inline"
   ]
  },
  {
   "cell_type": "code",
   "execution_count": 109,
   "metadata": {},
   "outputs": [],
   "source": [
    "class LinearRegression:\n",
    "    def __init__(self):\n",
    "        pass\n",
    "    \n",
    "    def optimize(self,X,y):\n",
    "        #print(self.w.shape)\n",
    "        #print(X,self.w)\n",
    "        self.w += self.lr * np.dot(X.T,(y-np.dot(X,self.w)))/self.batch_size\n",
    "    \n",
    "    def fit(self, X, y, lr=0.01, epoch=100, batch_size=10):\n",
    "        self.lr = lr\n",
    "        self.w = np.zeros((X.shape[1],1))\n",
    "        self.batch_size = batch_size\n",
    "        n_sample = len(y)\n",
    "        y = y.reshape(n_sample,1)\n",
    "        \n",
    "        for i in range(epoch):\n",
    "            for j in range(int(len(y)/batch_size)):\n",
    "                X_mini, y_mini = X[i*batch_size:(j+1)*batch_size,:], y[i*batch_size:(j+1)*batch_size]\n",
    "                self.optimize(X_mini,y_mini)\n",
    "            \n",
    "    def predict(self,X):\n",
    "        y = np.dot(X,self.w)\n",
    "        return y"
   ]
  },
  {
   "cell_type": "markdown",
   "metadata": {},
   "source": [
    "### トイデータ作成"
   ]
  },
  {
   "cell_type": "code",
   "execution_count": 114,
   "metadata": {},
   "outputs": [],
   "source": [
    "X = np.array([[1,3,-6]]) + np.random.randn(100,3)\n",
    "y = (np.dot(X,np.array([[1],[3],[-6]])) + np.random.randn(100,1)).reshape(-1)"
   ]
  },
  {
   "cell_type": "code",
   "execution_count": 116,
   "metadata": {},
   "outputs": [],
   "source": [
    "SGD = LinearRegression()\n",
    "SGD.fit(X,y,epoch=500)\n",
    "y_pred = SGD.predict(X)"
   ]
  },
  {
   "cell_type": "code",
   "execution_count": 115,
   "metadata": {},
   "outputs": [
    {
     "data": {
      "image/png": "[encoded data removed]",
      "text/plain": [
       "<Figure size 432x288 with 1 Axes>"
      ]
     },
     "metadata": {
      "needs_background": "light"
     },
     "output_type": "display_data"
    },
    {
     "data": {
      "image/png": "[encoded data removed]",
      "text/plain": [
       "<Figure size 432x288 with 1 Axes>"
      ]
     },
     "metadata": {
      "needs_background": "light"
     },
     "output_type": "display_data"
    },
    {
     "name": "stdout",
     "output_type": "stream",
     "text": [
      "[[ 1.09243145]\n",
      " [ 2.92429064]\n",
      " [-6.03125126]]\n"
     ]
    }
   ],
   "source": [
    "plt.scatter(X[:,0],y_pred)\n",
    "plt.scatter(X[:,0],y)\n",
    "plt.show()\n",
    "plt.scatter(X[:,1],y_pred)\n",
    "plt.scatter(X[:,1],y)\n",
    "plt.show()\n",
    "print(SGD.w)"
   ]
  },
  {
   "cell_type": "code",
   "execution_count": null,
   "metadata": {},
   "outputs": [],
   "source": []
  },
  {
   "cell_type": "code",
   "execution_count": null,
   "metadata": {},
   "outputs": [],
   "source": []
  },
  {
   "cell_type": "code",
   "execution_count": null,
   "metadata": {},
   "outputs": [],
   "source": []
  },
  {
   "cell_type": "code",
   "execution_count": null,
   "metadata": {},
   "outputs": [],
   "source": []
  },
  {
   "cell_type": "code",
   "execution_count": null,
   "metadata": {},
   "outputs": [],
   "source": []
  },
  {
   "cell_type": "code",
   "execution_count": null,
   "metadata": {},
   "outputs": [],
   "source": []
  },
  {
   "cell_type": "code",
   "execution_count": null,
   "metadata": {},
   "outputs": [],
   "source": []
  },
  {
   "cell_type": "code",
   "execution_count": null,
   "metadata": {},
   "outputs": [],
   "source": []
  },
  {
   "cell_type": "code",
   "execution_count": null,
   "metadata": {},
   "outputs": [],
   "source": []
  },
  {
   "cell_type": "code",
   "execution_count": null,
   "metadata": {},
   "outputs": [],
   "source": []
  }
 ],
 "metadata": {
  "kernelspec": {
   "display_name": "Python 3",
   "language": "python",
   "name": "python3"
  },
  "language_info": {
   "codemirror_mode": {
    "name": "ipython",
    "version": 3
   },
   "file_extension": ".py",
   "mimetype": "text/x-python",
   "name": "python",
   "nbconvert_exporter": "python",
   "pygments_lexer": "ipython3",
   "version": "3.7.1"
  }
 },
 "nbformat": 4,
 "nbformat_minor": 4
}
