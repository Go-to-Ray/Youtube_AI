{
 "cells": [
  {
   "cell_type": "markdown",
   "metadata": {},
   "source": [
    "# GLMを通してNNを理解する\n",
    "\n",
    "一般にNeural Network Model(以下NN)はGeneralized Linear Model(以下GLM)の文脈で学ばれます。GLMの多出力・多層モデルがNNと同値関係あるからです。\n",
    "\n",
    "まずは重回帰の線形回帰モデルをバッチ学習ができるように組んでみましょう。"
   ]
  },
  {
   "cell_type": "markdown",
   "metadata": {},
   "source": [
    "### 重回帰\n",
    "\n",
    "<div style=\"text-align: center;\">仮定関数：$ \\hat{y} = XW $ とする。</div>\n",
    "\\begin{align}\n",
    "    \\hat{y} = \n",
    "        \\begin{bmatrix}\n",
    "            \\hat{y_1} \\\\\n",
    "            \\hat{y_2} \\\\\n",
    "            \\vdots \\\\\n",
    "            \\hat{y_n}\n",
    "        \\end{bmatrix},\n",
    "    W &= \n",
    "        \\begin{bmatrix}\n",
    "            w_0 \\\\\n",
    "            w_1 \\\\\n",
    "            w_2 \\\\\n",
    "            \\vdots \\\\\n",
    "            w_d\n",
    "        \\end{bmatrix},\n",
    "    X = \n",
    "        \\begin{bmatrix}\n",
    "            x_{01} && x_{11} && \\cdots && x_{d1} \\\\\n",
    "            x_{02} && x_{12} && \\cdots && x_{d2} \\\\\n",
    "            \\vdots && \\vdots && \\ddots && \\vdots \\\\\n",
    "            x_{0n} && x_{1n} && \\cdots && x_{dn}\n",
    "        \\end{bmatrix} \\\\\n",
    "\\end{align}\n",
    "<div style=\"text-align: center;\">評価関数: $J=\\frac{1}{2}||y-\\hat{y}||^2$ であるとき。</div>\n",
    "\\begin{align}\n",
    "    \\frac{\\partial J}{\\partial w} &= -X^T(y-\\hat{y})\n",
    "    \\\\\n",
    "    w_{new} &= w_{old} - \\alpha \\frac{\\partial J}{\\partial w}  \\\\\n",
    "            &= w_{old} + \\alpha X^T(y-\\hat{y})\n",
    "\\end{align}"
   ]
  },
  {
   "cell_type": "code",
   "execution_count": 490,
   "metadata": {},
   "outputs": [],
   "source": [
    "import numpy as np\n",
    "import matplotlib.pyplot as plt\n",
    "%matplotlib inline"
   ]
  },
  {
   "cell_type": "code",
   "execution_count": 491,
   "metadata": {},
   "outputs": [],
   "source": [
    "class LinearRegression:\n",
    "    def __init__(self,bias=True):\n",
    "        self.bias = bias\n",
    "    \n",
    "    def optimize(self,X,y):\n",
    "        self.w += self.lr * X.T@(y-X@self.w)/self.n_sample\n",
    "        \n",
    "    def fit(self, X, y, lr=0.01, epoch=100, verbose=True):\n",
    "        self.lr = lr\n",
    "        self.n_sample = len(y)\n",
    "        self.loss_lst = np.empty(epoch)\n",
    "        \n",
    "        #biasアリ/ナシ\n",
    "        if self.bias == True:\n",
    "            self.w = np.zeros((X.shape[1]+1,1))\n",
    "            X = np.concatenate((np.ones(self.n_sample).reshape((-1,1)),X),axis=1)\n",
    "        else:\n",
    "            self.w = np.zeros((X.shape[1],1))\n",
    "        y = y.reshape(self.n_sample,1)\n",
    "        \n",
    "        print(y.shape)\n",
    "        for i in range(epoch):\n",
    "            self.optimize(X,y)\n",
    "            if verbose == True:\n",
    "                y_ = self.predict(X)\n",
    "                loss = ((y_ - y).T@(y_ - y)/self.n_sample).astype(np.float)\n",
    "                self.loss_lst[i] = loss\n",
    "                \n",
    "        if verbose == True:\n",
    "            self.loss_lst = self.loss_lst\n",
    "            plt.plot(range(epoch),self.loss_lst)\n",
    "            plt.show()\n",
    "            \n",
    "                \n",
    "    def predict(self,X):\n",
    "        if X.shape[1] != self.w.shape[0]:\n",
    "            X = np.concatenate((np.ones(X.shape[0]).reshape((-1,1)),X),axis=1)\n",
    "            \n",
    "        y = X@self.w\n",
    "        return y"
   ]
  },
  {
   "cell_type": "markdown",
   "metadata": {},
   "source": [
    "### トイデータ作成"
   ]
  },
  {
   "cell_type": "code",
   "execution_count": 522,
   "metadata": {},
   "outputs": [
    {
     "name": "stdout",
     "output_type": "stream",
     "text": [
      "(8, 7)\n",
      "(8, 1)\n"
     ]
    },
    {
     "data": {
      "text/plain": [
       "<matplotlib.collections.PathCollection at 0x1eaa8875d60>"
      ]
     },
     "execution_count": 522,
     "metadata": {},
     "output_type": "execute_result"
    },
    {
     "data": {
      "image/png": "[encoded data removed]",
      "text/plain": [
       "<Figure size 432x288 with 1 Axes>"
      ]
     },
     "metadata": {
      "needs_background": "light"
     },
     "output_type": "display_data"
    }
   ],
   "source": [
    "X = np.random.randn(8,1)\n",
    "y = X**2 + np.random.randn(8,1)/4\n",
    "X = np.concatenate([X,X**2,X**3,X**4,X**5,X**6,X**7],axis=1)\n",
    "y_mean = y.mean(axis=0)\n",
    "X_mean = X.mean(axis=0)\n",
    "y_var = y.var(axis=0)\n",
    "X_var = X.var(axis=0)\n",
    "y = (y-y_mean)/y_var\n",
    "X = (X-X_mean)/X_var\n",
    "print(X.shape)\n",
    "print(y.shape)\n",
    "plt.scatter(X[:,0],y)\n",
    "#plt.show()"
   ]
  },
  {
   "cell_type": "code",
   "execution_count": 527,
   "metadata": {},
   "outputs": [
    {
     "name": "stdout",
     "output_type": "stream",
     "text": [
      "-1.6594565445148095\n",
      "1.5195776918803447\n",
      "(8, 1)\n"
     ]
    },
    {
     "data": {
      "image/png": "[encoded data removed]",
      "text/plain": [
       "<Figure size 432x288 with 1 Axes>"
      ]
     },
     "metadata": {
      "needs_background": "light"
     },
     "output_type": "display_data"
    },
    {
     "name": "stdout",
     "output_type": "stream",
     "text": [
      "(8, 1)\n"
     ]
    },
    {
     "data": {
      "image/png": "[encoded data removed]",
      "text/plain": [
       "<Figure size 432x288 with 1 Axes>"
      ]
     },
     "metadata": {
      "needs_background": "light"
     },
     "output_type": "display_data"
    },
    {
     "name": "stdout",
     "output_type": "stream",
     "text": [
      "(8, 1)\n"
     ]
    },
    {
     "data": {
      "image/png": "[encoded data removed]",
      "text/plain": [
       "<Figure size 432x288 with 1 Axes>"
      ]
     },
     "metadata": {
      "needs_background": "light"
     },
     "output_type": "display_data"
    },
    {
     "data": {
      "image/png": "[encoded data removed]",
      "text/plain": [
       "<Figure size 432x288 with 1 Axes>"
      ]
     },
     "metadata": {
      "needs_background": "light"
     },
     "output_type": "display_data"
    }
   ],
   "source": [
    "SGD = LinearRegression()\n",
    "\"\"\"\n",
    "SGD.fit(X,y.reshape(-1),epoch=10000)\n",
    "X_ = np.linspace(0,20,100).reshape(100,1)\n",
    "X_ = np.concatenate([X_,X_**2,X_**3,X_**4,X_**5,X_**6,X_**7,X_**8,X_**9],axis=1)\n",
    "X_ = (X_-X_.mean(axis=0))/X_.var(axis=0)\n",
    "y1 = SGD.predict(X_)\n",
    "\n",
    "SGD.fit(X[:,:7],y.reshape(-1),epoch=10000)\n",
    "X_ = np.linspace(0,20,100).reshape(100,1)\n",
    "X_ = np.concatenate([X_,X_**2,X_**3,X_**4,X_**5,X_**6,X_**7],axis=1)\n",
    "X_ = (X_-X_.mean(axis=0))/X_.var(axis=0)\n",
    "y2 = SGD.predict(X_)\n",
    "\n",
    "SGD.fit(X[:,:5],y.reshape(-1),epoch=10000)\n",
    "X_ = np.linspace(0,20,100).reshape(100,1)\n",
    "X_ = np.concatenate([X_,X_**2,X_**3,X_**4,X_**5],axis=1)\n",
    "X_ = (X_-X_.mean(axis=0))/X_.var(axis=0)\n",
    "y3 = SGD.predict(X_)\n",
    "\n",
    "SGD.fit(X[:,:3],y.reshape(-1),epoch=10000)\n",
    "X_ = np.linspace(0,20,100).reshape(100,1)\n",
    "X_ = np.concatenate([X_,X_**2,X_**3],axis=1)\n",
    "X_ = (X_-X_.mean(axis=0))/X_.var(axis=0)\n",
    "y4 = SGD.predict(X_)\n",
    "\n",
    "SGD.fit(X[:,:],y.reshape(-1),epoch=110)\n",
    "X_ = np.linspace(1,3,100).reshape(100,1)\n",
    "X_ = np.concatenate([X_,X_**2,X_**3,X_**4,X_**5],axis=1)\n",
    "y4 = SGD.predict(X_)\n",
    "\"\"\"\n",
    "x_min = np.min(X[:,0]) + 1.2\n",
    "x_max = np.max(X[:,0]) - 0.2\n",
    "\n",
    "print(x_min)\n",
    "print(x_max)\n",
    "\n",
    "SGD.fit(X[:,:],y.reshape(-1),epoch=10000)\n",
    "X_ = np.linspace(x_min,x_max,1000).reshape(1000,1)\n",
    "X_ = np.concatenate([X_,X_**2,X_**3,X_**4,X_**5,X_**6,X_**7],axis=1)\n",
    "y_ = (y_-y_mean)/y_var\n",
    "X_ = (X_-X_mean)/X_var\n",
    "y3 = SGD.predict(X_)\n",
    "\n",
    "SGD.fit(X[:,:5],y.reshape(-1),epoch=10000)\n",
    "X_ = np.linspace(x_min,x_max,1000).reshape(1000,1)\n",
    "X_ = np.concatenate([X_,X_**2,X_**3,X_**4,X_**5],axis=1)\n",
    "y_ = (y_-y_mean)/y_var\n",
    "X_ = (X_-X_mean[:5])/X_var[:5]\n",
    "y4 = SGD.predict(X_)\n",
    "\n",
    "SGD.fit(X[:,0:2],y.reshape(-1),epoch=10000)\n",
    "X_ = np.linspace(x_min,x_max,1000).reshape(1000,1)\n",
    "X_ = np.concatenate([X_,X_**2],axis=1)\n",
    "y_ = (y_-y_mean)/y_var\n",
    "X_ = (X_-X_mean[:2])/X_var[:2]\n",
    "y5 = SGD.predict(X_)\n",
    "\n",
    "X_ = np.linspace(x_min,x_max,1000).reshape(1000,1)\n",
    "y_ = X_**2\n",
    "y_ = (y_-y_mean)/y_var\n",
    "X_ = (X_-X_mean[0])/X_var[0]\n",
    "#plt.plot(X_,y1)\n",
    "#plt.plot(X_,y2)\n",
    "\n",
    "plt.plot(X_,y3,label=\"seven\")\n",
    "plt.plot(X_,y4,label=\"five\")\n",
    "plt.plot(X_,y5,label=\"two\")\n",
    "plt.plot(X_,y_,label=\"origin\")\n",
    "plt.scatter(X[:,0],y)\n",
    "plt.legend()\n",
    "plt.show()"
   ]
  },
  {
   "cell_type": "code",
   "execution_count": 494,
   "metadata": {},
   "outputs": [
    {
     "ename": "ValueError",
     "evalue": "x and y must be the same size",
     "output_type": "error",
     "traceback": [
      "\u001b[1;31m---------------------------------------------------------------------------\u001b[0m",
      "\u001b[1;31mValueError\u001b[0m                                Traceback (most recent call last)",
      "\u001b[1;32m<ipython-input-494-3e07cac0f5e6>\u001b[0m in \u001b[0;36m<module>\u001b[1;34m\u001b[0m\n\u001b[1;32m----> 1\u001b[1;33m \u001b[0mplt\u001b[0m\u001b[1;33m.\u001b[0m\u001b[0mscatter\u001b[0m\u001b[1;33m(\u001b[0m\u001b[0mX\u001b[0m\u001b[1;33m[\u001b[0m\u001b[1;33m:\u001b[0m\u001b[1;33m,\u001b[0m\u001b[1;36m0\u001b[0m\u001b[1;33m]\u001b[0m\u001b[1;33m,\u001b[0m\u001b[0my_pred\u001b[0m\u001b[1;33m)\u001b[0m\u001b[1;33m\u001b[0m\u001b[1;33m\u001b[0m\u001b[0m\n\u001b[0m\u001b[0;32m      2\u001b[0m \u001b[0mplt\u001b[0m\u001b[1;33m.\u001b[0m\u001b[0mscatter\u001b[0m\u001b[1;33m(\u001b[0m\u001b[0mX\u001b[0m\u001b[1;33m[\u001b[0m\u001b[1;33m:\u001b[0m\u001b[1;33m,\u001b[0m\u001b[1;36m0\u001b[0m\u001b[1;33m]\u001b[0m\u001b[1;33m,\u001b[0m\u001b[0my\u001b[0m\u001b[1;33m)\u001b[0m\u001b[1;33m\u001b[0m\u001b[1;33m\u001b[0m\u001b[0m\n\u001b[0;32m      3\u001b[0m \u001b[0mplt\u001b[0m\u001b[1;33m.\u001b[0m\u001b[0mshow\u001b[0m\u001b[1;33m(\u001b[0m\u001b[1;33m)\u001b[0m\u001b[1;33m\u001b[0m\u001b[1;33m\u001b[0m\u001b[0m\n\u001b[0;32m      4\u001b[0m \u001b[0mplt\u001b[0m\u001b[1;33m.\u001b[0m\u001b[0mscatter\u001b[0m\u001b[1;33m(\u001b[0m\u001b[0mX\u001b[0m\u001b[1;33m[\u001b[0m\u001b[1;33m:\u001b[0m\u001b[1;33m,\u001b[0m\u001b[1;36m1\u001b[0m\u001b[1;33m]\u001b[0m\u001b[1;33m,\u001b[0m\u001b[0my_pred\u001b[0m\u001b[1;33m)\u001b[0m\u001b[1;33m\u001b[0m\u001b[1;33m\u001b[0m\u001b[0m\n\u001b[0;32m      5\u001b[0m \u001b[0mplt\u001b[0m\u001b[1;33m.\u001b[0m\u001b[0mscatter\u001b[0m\u001b[1;33m(\u001b[0m\u001b[0mX\u001b[0m\u001b[1;33m[\u001b[0m\u001b[1;33m:\u001b[0m\u001b[1;33m,\u001b[0m\u001b[1;36m1\u001b[0m\u001b[1;33m]\u001b[0m\u001b[1;33m,\u001b[0m\u001b[0my\u001b[0m\u001b[1;33m)\u001b[0m\u001b[1;33m\u001b[0m\u001b[1;33m\u001b[0m\u001b[0m\n",
      "\u001b[1;32mc:\\users\\gotorei\\poetry-afro\\.venv\\lib\\site-packages\\matplotlib\\pyplot.py\u001b[0m in \u001b[0;36mscatter\u001b[1;34m(x, y, s, c, marker, cmap, norm, vmin, vmax, alpha, linewidths, verts, edgecolors, plotnonfinite, data, **kwargs)\u001b[0m\n\u001b[0;32m   2888\u001b[0m         \u001b[0mverts\u001b[0m\u001b[1;33m=\u001b[0m\u001b[0mcbook\u001b[0m\u001b[1;33m.\u001b[0m\u001b[0mdeprecation\u001b[0m\u001b[1;33m.\u001b[0m\u001b[0m_deprecated_parameter\u001b[0m\u001b[1;33m,\u001b[0m\u001b[1;33m\u001b[0m\u001b[1;33m\u001b[0m\u001b[0m\n\u001b[0;32m   2889\u001b[0m         edgecolors=None, *, plotnonfinite=False, data=None, **kwargs):\n\u001b[1;32m-> 2890\u001b[1;33m     __ret = gca().scatter(\n\u001b[0m\u001b[0;32m   2891\u001b[0m         \u001b[0mx\u001b[0m\u001b[1;33m,\u001b[0m \u001b[0my\u001b[0m\u001b[1;33m,\u001b[0m \u001b[0ms\u001b[0m\u001b[1;33m=\u001b[0m\u001b[0ms\u001b[0m\u001b[1;33m,\u001b[0m \u001b[0mc\u001b[0m\u001b[1;33m=\u001b[0m\u001b[0mc\u001b[0m\u001b[1;33m,\u001b[0m \u001b[0mmarker\u001b[0m\u001b[1;33m=\u001b[0m\u001b[0mmarker\u001b[0m\u001b[1;33m,\u001b[0m \u001b[0mcmap\u001b[0m\u001b[1;33m=\u001b[0m\u001b[0mcmap\u001b[0m\u001b[1;33m,\u001b[0m \u001b[0mnorm\u001b[0m\u001b[1;33m=\u001b[0m\u001b[0mnorm\u001b[0m\u001b[1;33m,\u001b[0m\u001b[1;33m\u001b[0m\u001b[1;33m\u001b[0m\u001b[0m\n\u001b[0;32m   2892\u001b[0m         \u001b[0mvmin\u001b[0m\u001b[1;33m=\u001b[0m\u001b[0mvmin\u001b[0m\u001b[1;33m,\u001b[0m \u001b[0mvmax\u001b[0m\u001b[1;33m=\u001b[0m\u001b[0mvmax\u001b[0m\u001b[1;33m,\u001b[0m \u001b[0malpha\u001b[0m\u001b[1;33m=\u001b[0m\u001b[0malpha\u001b[0m\u001b[1;33m,\u001b[0m \u001b[0mlinewidths\u001b[0m\u001b[1;33m=\u001b[0m\u001b[0mlinewidths\u001b[0m\u001b[1;33m,\u001b[0m\u001b[1;33m\u001b[0m\u001b[1;33m\u001b[0m\u001b[0m\n",
      "\u001b[1;32mc:\\users\\gotorei\\poetry-afro\\.venv\\lib\\site-packages\\matplotlib\\__init__.py\u001b[0m in \u001b[0;36minner\u001b[1;34m(ax, data, *args, **kwargs)\u001b[0m\n\u001b[0;32m   1436\u001b[0m     \u001b[1;32mdef\u001b[0m \u001b[0minner\u001b[0m\u001b[1;33m(\u001b[0m\u001b[0max\u001b[0m\u001b[1;33m,\u001b[0m \u001b[1;33m*\u001b[0m\u001b[0margs\u001b[0m\u001b[1;33m,\u001b[0m \u001b[0mdata\u001b[0m\u001b[1;33m=\u001b[0m\u001b[1;32mNone\u001b[0m\u001b[1;33m,\u001b[0m \u001b[1;33m**\u001b[0m\u001b[0mkwargs\u001b[0m\u001b[1;33m)\u001b[0m\u001b[1;33m:\u001b[0m\u001b[1;33m\u001b[0m\u001b[1;33m\u001b[0m\u001b[0m\n\u001b[0;32m   1437\u001b[0m         \u001b[1;32mif\u001b[0m \u001b[0mdata\u001b[0m \u001b[1;32mis\u001b[0m \u001b[1;32mNone\u001b[0m\u001b[1;33m:\u001b[0m\u001b[1;33m\u001b[0m\u001b[1;33m\u001b[0m\u001b[0m\n\u001b[1;32m-> 1438\u001b[1;33m             \u001b[1;32mreturn\u001b[0m \u001b[0mfunc\u001b[0m\u001b[1;33m(\u001b[0m\u001b[0max\u001b[0m\u001b[1;33m,\u001b[0m \u001b[1;33m*\u001b[0m\u001b[0mmap\u001b[0m\u001b[1;33m(\u001b[0m\u001b[0msanitize_sequence\u001b[0m\u001b[1;33m,\u001b[0m \u001b[0margs\u001b[0m\u001b[1;33m)\u001b[0m\u001b[1;33m,\u001b[0m \u001b[1;33m**\u001b[0m\u001b[0mkwargs\u001b[0m\u001b[1;33m)\u001b[0m\u001b[1;33m\u001b[0m\u001b[1;33m\u001b[0m\u001b[0m\n\u001b[0m\u001b[0;32m   1439\u001b[0m \u001b[1;33m\u001b[0m\u001b[0m\n\u001b[0;32m   1440\u001b[0m         \u001b[0mbound\u001b[0m \u001b[1;33m=\u001b[0m \u001b[0mnew_sig\u001b[0m\u001b[1;33m.\u001b[0m\u001b[0mbind\u001b[0m\u001b[1;33m(\u001b[0m\u001b[0max\u001b[0m\u001b[1;33m,\u001b[0m \u001b[1;33m*\u001b[0m\u001b[0margs\u001b[0m\u001b[1;33m,\u001b[0m \u001b[1;33m**\u001b[0m\u001b[0mkwargs\u001b[0m\u001b[1;33m)\u001b[0m\u001b[1;33m\u001b[0m\u001b[1;33m\u001b[0m\u001b[0m\n",
      "\u001b[1;32mc:\\users\\gotorei\\poetry-afro\\.venv\\lib\\site-packages\\matplotlib\\cbook\\deprecation.py\u001b[0m in \u001b[0;36mwrapper\u001b[1;34m(*inner_args, **inner_kwargs)\u001b[0m\n\u001b[0;32m    409\u001b[0m                          \u001b[1;32melse\u001b[0m \u001b[0mdeprecation_addendum\u001b[0m\u001b[1;33m,\u001b[0m\u001b[1;33m\u001b[0m\u001b[1;33m\u001b[0m\u001b[0m\n\u001b[0;32m    410\u001b[0m                 **kwargs)\n\u001b[1;32m--> 411\u001b[1;33m         \u001b[1;32mreturn\u001b[0m \u001b[0mfunc\u001b[0m\u001b[1;33m(\u001b[0m\u001b[1;33m*\u001b[0m\u001b[0minner_args\u001b[0m\u001b[1;33m,\u001b[0m \u001b[1;33m**\u001b[0m\u001b[0minner_kwargs\u001b[0m\u001b[1;33m)\u001b[0m\u001b[1;33m\u001b[0m\u001b[1;33m\u001b[0m\u001b[0m\n\u001b[0m\u001b[0;32m    412\u001b[0m \u001b[1;33m\u001b[0m\u001b[0m\n\u001b[0;32m    413\u001b[0m     \u001b[1;32mreturn\u001b[0m \u001b[0mwrapper\u001b[0m\u001b[1;33m\u001b[0m\u001b[1;33m\u001b[0m\u001b[0m\n",
      "\u001b[1;32mc:\\users\\gotorei\\poetry-afro\\.venv\\lib\\site-packages\\matplotlib\\axes\\_axes.py\u001b[0m in \u001b[0;36mscatter\u001b[1;34m(self, x, y, s, c, marker, cmap, norm, vmin, vmax, alpha, linewidths, verts, edgecolors, plotnonfinite, **kwargs)\u001b[0m\n\u001b[0;32m   4439\u001b[0m         \u001b[0my\u001b[0m \u001b[1;33m=\u001b[0m \u001b[0mnp\u001b[0m\u001b[1;33m.\u001b[0m\u001b[0mma\u001b[0m\u001b[1;33m.\u001b[0m\u001b[0mravel\u001b[0m\u001b[1;33m(\u001b[0m\u001b[0my\u001b[0m\u001b[1;33m)\u001b[0m\u001b[1;33m\u001b[0m\u001b[1;33m\u001b[0m\u001b[0m\n\u001b[0;32m   4440\u001b[0m         \u001b[1;32mif\u001b[0m \u001b[0mx\u001b[0m\u001b[1;33m.\u001b[0m\u001b[0msize\u001b[0m \u001b[1;33m!=\u001b[0m \u001b[0my\u001b[0m\u001b[1;33m.\u001b[0m\u001b[0msize\u001b[0m\u001b[1;33m:\u001b[0m\u001b[1;33m\u001b[0m\u001b[1;33m\u001b[0m\u001b[0m\n\u001b[1;32m-> 4441\u001b[1;33m             \u001b[1;32mraise\u001b[0m \u001b[0mValueError\u001b[0m\u001b[1;33m(\u001b[0m\u001b[1;34m\"x and y must be the same size\"\u001b[0m\u001b[1;33m)\u001b[0m\u001b[1;33m\u001b[0m\u001b[1;33m\u001b[0m\u001b[0m\n\u001b[0m\u001b[0;32m   4442\u001b[0m \u001b[1;33m\u001b[0m\u001b[0m\n\u001b[0;32m   4443\u001b[0m         \u001b[1;32mif\u001b[0m \u001b[0ms\u001b[0m \u001b[1;32mis\u001b[0m \u001b[1;32mNone\u001b[0m\u001b[1;33m:\u001b[0m\u001b[1;33m\u001b[0m\u001b[1;33m\u001b[0m\u001b[0m\n",
      "\u001b[1;31mValueError\u001b[0m: x and y must be the same size"
     ]
    },
    {
     "data": {
      "image/png": "[encoded data removed]",
      "text/plain": [
       "<Figure size 432x288 with 1 Axes>"
      ]
     },
     "metadata": {
      "needs_background": "light"
     },
     "output_type": "display_data"
    }
   ],
   "source": [
    "plt.scatter(X[:,0],y_pred)\n",
    "plt.scatter(X[:,0],y)\n",
    "plt.show()\n",
    "plt.scatter(X[:,1],y_pred)\n",
    "plt.scatter(X[:,1],y)\n",
    "plt.show()\n"
   ]
  },
  {
   "cell_type": "code",
   "execution_count": null,
   "metadata": {},
   "outputs": [],
   "source": []
  },
  {
   "cell_type": "markdown",
   "metadata": {},
   "source": [
    "ここまではただの線形回帰です。\n",
    "さっきの回帰では、X_1,X_2,X_3という特徴量が"
   ]
  },
  {
   "cell_type": "code",
   "execution_count": null,
   "metadata": {},
   "outputs": [],
   "source": [
    "print(SGD.w)"
   ]
  },
  {
   "cell_type": "code",
   "execution_count": null,
   "metadata": {},
   "outputs": [],
   "source": []
  },
  {
   "cell_type": "code",
   "execution_count": null,
   "metadata": {},
   "outputs": [],
   "source": []
  },
  {
   "cell_type": "code",
   "execution_count": null,
   "metadata": {},
   "outputs": [],
   "source": []
  },
  {
   "cell_type": "code",
   "execution_count": null,
   "metadata": {},
   "outputs": [],
   "source": []
  },
  {
   "cell_type": "code",
   "execution_count": null,
   "metadata": {},
   "outputs": [],
   "source": []
  },
  {
   "cell_type": "code",
   "execution_count": null,
   "metadata": {},
   "outputs": [],
   "source": []
  },
  {
   "cell_type": "code",
   "execution_count": null,
   "metadata": {},
   "outputs": [],
   "source": []
  },
  {
   "cell_type": "code",
   "execution_count": null,
   "metadata": {},
   "outputs": [],
   "source": []
  }
 ],
 "metadata": {
  "kernelspec": {
   "display_name": "Python 3",
   "language": "python",
   "name": "python3"
  },
  "language_info": {
   "codemirror_mode": {
    "name": "ipython",
    "version": 3
   },
   "file_extension": ".py",
   "mimetype": "text/x-python",
   "name": "python",
   "nbconvert_exporter": "python",
   "pygments_lexer": "ipython3",
   "version": "3.8.3"
  }
 },
 "nbformat": 4,
 "nbformat_minor": 4
}
