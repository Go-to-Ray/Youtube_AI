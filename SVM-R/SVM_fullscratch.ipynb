{
 "cells": [
  {
   "cell_type": "markdown",
   "metadata": {},
   "source": [
    "# SVMとSVRのPythonによるフルスクラッチ実装"
   ]
  },
  {
   "cell_type": "code",
   "execution_count": 3,
   "metadata": {},
   "outputs": [],
   "source": [
    "import numpy as np\n",
    "import matplotlib.pyplot as plt\n",
    "import pandas as pd"
   ]
  },
  {
   "cell_type": "markdown",
   "metadata": {},
   "source": [
    "## テスト用のデータを生成する"
   ]
  },
  {
   "cell_type": "code",
   "execution_count": 4,
   "metadata": {},
   "outputs": [
    {
     "data": {
      "text/plain": [
       "150"
      ]
     },
     "execution_count": 4,
     "metadata": {},
     "output_type": "execute_result"
    }
   ],
   "source": [
    "np.random.seed(seed=0)\n",
    "data0 = 50             #1.データの数\n",
    "data1 = 50\n",
    "data2 = 50\n",
    "\n",
    "mean0 = [3, 4]          #2.データ０における平均値（ｘ、ｙ）\n",
    "mean1 = [4, -1]         #3.データ１における平均値（ｘ、ｙ）\n",
    "mean2 = [6, 3]\n",
    "\n",
    "\n",
    "cov0  = [[1.0, 0.4],\n",
    "         [0.4, 1.0]]    #4.データ０における共分散行列\n",
    "cov1  = [[1.0, 0.2],\n",
    "         [0.2, 1.0]]    #5.データ１における共分散行列\n",
    "cov2  = [[1.0, -0.2],\n",
    "         [-0.2, 1.0]]\n",
    "\n",
    "\n",
    "#二次元正規分布を生成する（0~5の値によって変動する）\n",
    "label0 = np.random.multivariate_normal(mean0, cov0, data0)\n",
    "label1 = np.random.multivariate_normal(mean1, cov1, data1)\n",
    "label2 = np.random.multivariate_normal(mean2, cov2, data2)\n",
    "\n",
    "#それぞれのデータの結合\n",
    "X = np.concatenate((label0, label2, label1))\n",
    "y = np.concatenate(((np.ones(data0+data2)), (np.ones(data1)*(-1)))).astype(int)\n",
    "\n",
    "np.random.seed(seed=0)\n",
    "#順番を入れ替える\n",
    "random_i = np.random.permutation(np.arange(data0+data1+data2))\n",
    "X = X[random_i]\n",
    "y = y[random_i]\n",
    "len(y)"
   ]
  },
  {
   "cell_type": "markdown",
   "metadata": {},
   "source": [
    "### matplotlibを使って図示する"
   ]
  },
  {
   "cell_type": "code",
   "execution_count": 5,
   "metadata": {},
   "outputs": [
    {
     "data": {
      "image/png": "[encoded data removed]",
      "text/plain": [
       "<Figure size 432x288 with 1 Axes>"
      ]
     },
     "metadata": {
      "needs_background": "light"
     },
     "output_type": "display_data"
    }
   ],
   "source": [
    "plt.scatter(label0[:,0],label0[:,1],c=\"y\",label=1)\n",
    "plt.scatter(label2[:,0],label2[:,1],c=\"y\",label=1)\n",
    "plt.scatter(label1[:,0],label1[:,1],c=\"c\",label=-1)\n",
    "plt.legend()\n",
    "plt.xlabel('x')\n",
    "plt.ylabel('y')\n",
    "plt.show()"
   ]
  },
  {
   "cell_type": "code",
   "execution_count": 6,
   "metadata": {},
   "outputs": [
    {
     "data": {
      "image/png": "[encoded data removed]",
      "text/plain": [
       "<Figure size 432x288 with 1 Axes>"
      ]
     },
     "metadata": {
      "needs_background": "light"
     },
     "output_type": "display_data"
    }
   ],
   "source": [
    "from sklearn.preprocessing import StandardScaler\n",
    "\n",
    "scaler = StandardScaler()\n",
    "scaler.fit(X)\n",
    "X = scaler.transform(X)\n",
    "\n",
    "plt.scatter(X[:,0],X[:,1])\n",
    "plt.show()"
   ]
  },
  {
   "cell_type": "markdown",
   "metadata": {},
   "source": [
    "## SVMのフルスクラッチ実装(Hardmergin)\n",
    "\n",
    "最適化手法のおさらい  \n",
    "$$\n",
    "\\begin{align}\n",
    "\\mathrm{w} &= \\sum_{i = 1}^{N}\\lambda_i y_i x_i  \\\\\n",
    "b &= y_i-\\sum_{i=1}^{N}\\sum_{j=1}^{N}(\\lambda_i y_i x_i^T x_j) \\\\\n",
    "\\lambda_i^{(n+1)} &= \\lambda_i^{(n)} + \\alpha(1-\\sum_{j=1}^{N} \\lambda_j y_i y_j K(x_i,x_j))\n",
    "\\end{align}\n",
    "$$\n",
    "Kはカーネル法を使う場合に使用する\n"
   ]
  },
  {
   "cell_type": "code",
   "execution_count": 11,
   "metadata": {},
   "outputs": [],
   "source": [
    "class SvmFullScratch:\n",
    "    def __init__(self,iter_num=20,lr=1e-3,kernel='linear'):\n",
    "        self.iter_num = iter_num\n",
    "        self._lr = lr\n",
    "        self._kernel = kernel\n",
    "        self._sv = []\n",
    "        self._y = []\n",
    "        \n",
    "        \n",
    "    def _lagrange(self, X, y):\n",
    "        for i in range(len(X)):\n",
    "            lam_sum = 0\n",
    "            for j in range(len(X)):\n",
    "                lam_sum += self._lambda[j] * y[i] * y[j] * self.kernel(X[i],X[j])\n",
    "            self._lambda[i] += self._lr*(1-lam_sum)\n",
    "            \n",
    "            if self._lambda[i] < 0:\n",
    "                self._lambda[i] = 0\n",
    "        \n",
    "    def train(self, X, y):\n",
    "        self._lambda = np.random.rand(len(X),1)\n",
    "        for i in range(self.iter_num):\n",
    "            self._lagrange(X,y)\n",
    "            \n",
    "        index_sv = np.where(self._lambda >= 1e-6)[0]\n",
    "        print(index_sv)\n",
    "        self._lambda = self._lambda[index_sv]\n",
    "        self._sv = X[index_sv]\n",
    "        self._y = y[index_sv]\n",
    "    \n",
    "    def kernel(self, xi, xj):\n",
    "        if self._kernel == \"linear\":\n",
    "            K = np.dot(xi.T,xj)\n",
    "            return K\n",
    "        elif self._kernel == \"poly\":\n",
    "            gamma = 1.0\n",
    "            d = 6\n",
    "            K = (np.dot(xi.T,xj) + gamma)**d\n",
    "            return K\n",
    "        else:\n",
    "            print(\"cannot found\", self._kernel)\n",
    "    \n",
    "    def predict(self,X):\n",
    "        y_hat = 0\n",
    "        print(X.shape)\n",
    "        print(self._sv)\n",
    "        for i in range(len(self._sv)):\n",
    "            y_hat += self._lambda[i] * self._y[i] * self.kernel(X.T, self._sv[i].T)\n",
    "        return y_hat\n",
    "            "
   ]
  },
  {
   "cell_type": "code",
   "execution_count": 8,
   "metadata": {},
   "outputs": [],
   "source": [
    "from matplotlib.colors import ListedColormap\n",
    "\n",
    "# 可視化関数\n",
    "def plot_decision_regions(X, model):\n",
    "    plt.scatter(X[:,0], X[:,1], s=80, c=y, marker='o')\n",
    "    #print(model.sv_lt)\n",
    "    for sv in model._sv:\n",
    "        plt.scatter(sv[0], sv[1], s=80, c='c', marker='o')\n",
    "    \n",
    "    #サポートベクターも同様にプロット\n",
    "    step = 0.1\n",
    "    mesh_f0, mesh_f1  = np.meshgrid(np.arange(np.min(X[:,0])-1.0, np.max(X[:,0])+1.0, step), np.arange(np.min(X[:,1])-1.0, np.max(X[:,1])+1.0, step))\n",
    "    mesh = np.c_[np.ravel(mesh_f0),np.ravel(mesh_f1)]\n",
    "    pred = model.predict(mesh).reshape(mesh_f0.shape)\n",
    "    plt.contour(mesh_f0, mesh_f1, pred, 1)\n",
    "    plt.show()"
   ]
  },
  {
   "cell_type": "code",
   "execution_count": 12,
   "metadata": {},
   "outputs": [
    {
     "name": "stdout",
     "output_type": "stream",
     "text": [
      "[ 16  19  29  30  34  52  60  62  74  79  82  83  90  91  94 103 109 112\n",
      " 113 118 122 124 130 132 138 140 141 143 148]\n",
      "(4410, 2)\n",
      "[[ 0.84072694 -0.20051635]\n",
      " [ 0.32175787  0.70276234]\n",
      " [-0.13335073  0.75574086]\n",
      " [ 0.04539848 -0.77437223]\n",
      " [ 0.07266456 -0.66612371]\n",
      " [ 0.48372486  0.55453775]\n",
      " [-0.21587995 -0.20374178]\n",
      " [ 0.0459844  -0.61697853]\n",
      " [ 0.11270448  0.19194002]\n",
      " [-0.45993054  0.35375085]\n",
      " [-1.44761173 -0.31204168]\n",
      " [-0.37162301 -0.38381325]\n",
      " [ 0.6137381  -0.99205568]\n",
      " [-0.50906593  0.31947672]\n",
      " [-0.68076758 -0.6560314 ]\n",
      " [ 0.31859235 -0.9225991 ]\n",
      " [ 0.5660308   0.43611216]\n",
      " [ 0.85005766 -0.25248264]\n",
      " [ 0.19986933  0.73594528]\n",
      " [-0.73866049  0.69139691]\n",
      " [-0.48623738  0.91863536]\n",
      " [-0.68201174 -0.61313925]\n",
      " [-0.02387543 -0.90147821]\n",
      " [ 0.53410981 -0.14118205]\n",
      " [-0.64308156  0.9759605 ]\n",
      " [ 0.75436944  0.55234832]\n",
      " [ 1.17609003  0.09785065]\n",
      " [-0.94914494  0.14760251]\n",
      " [-0.13897795 -0.90884624]]\n"
     ]
    },
    {
     "data": {
      "image/png": "[encoded data removed]",
      "text/plain": [
       "<Figure size 432x288 with 1 Axes>"
      ]
     },
     "metadata": {
      "needs_background": "light"
     },
     "output_type": "display_data"
    }
   ],
   "source": [
    "svm = SvmFullScratch(20, 1e-4,kernel=\"poly\")\n",
    "svm.train(X, y)\n",
    "plot_decision_regions(X,svm)"
   ]
  },
  {
   "cell_type": "code",
   "execution_count": null,
   "metadata": {},
   "outputs": [],
   "source": []
  }
 ],
 "metadata": {
  "kernelspec": {
   "display_name": "Python 3",
   "language": "python",
   "name": "python3"
  },
  "language_info": {
   "codemirror_mode": {
    "name": "ipython",
    "version": 3
   },
   "file_extension": ".py",
   "mimetype": "text/x-python",
   "name": "python",
   "nbconvert_exporter": "python",
   "pygments_lexer": "ipython3",
   "version": "3.7.4"
  }
 },
 "nbformat": 4,
 "nbformat_minor": 4
}
